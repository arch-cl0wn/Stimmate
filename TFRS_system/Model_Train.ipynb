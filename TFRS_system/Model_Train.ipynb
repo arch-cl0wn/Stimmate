{
 "cells": [
  {
   "cell_type": "code",
   "execution_count": 1,
   "metadata": {
    "colab": {
     "base_uri": "https://localhost:8080/"
    },
    "id": "Wl2xBP9hBRCr",
    "outputId": "b6f90184-ab7c-411f-ef1c-09ac0c113b5a"
   },
   "outputs": [
    {
     "name": "stdout",
     "output_type": "stream",
     "text": [
      "Requirement already satisfied: tensorflow-recommenders in c:\\users\\anush\\anaconda3\\lib\\site-packages (0.7.3)\n",
      "Requirement already satisfied: absl-py>=0.1.6 in c:\\users\\anush\\anaconda3\\lib\\site-packages (from tensorflow-recommenders) (1.4.0)\n",
      "Requirement already satisfied: tensorflow>=2.9.0 in c:\\users\\anush\\anaconda3\\lib\\site-packages (from tensorflow-recommenders) (2.12.0)\n",
      "Requirement already satisfied: tensorflow-intel==2.12.0 in c:\\users\\anush\\anaconda3\\lib\\site-packages (from tensorflow>=2.9.0->tensorflow-recommenders) (2.12.0)\n",
      "Requirement already satisfied: astunparse>=1.6.0 in c:\\users\\anush\\anaconda3\\lib\\site-packages (from tensorflow-intel==2.12.0->tensorflow>=2.9.0->tensorflow-recommenders) (1.6.3)\n",
      "Requirement already satisfied: flatbuffers>=2.0 in c:\\users\\anush\\anaconda3\\lib\\site-packages (from tensorflow-intel==2.12.0->tensorflow>=2.9.0->tensorflow-recommenders) (23.3.3)\n",
      "Requirement already satisfied: gast<=0.4.0,>=0.2.1 in c:\\users\\anush\\anaconda3\\lib\\site-packages (from tensorflow-intel==2.12.0->tensorflow>=2.9.0->tensorflow-recommenders) (0.4.0)\n",
      "Requirement already satisfied: google-pasta>=0.1.1 in c:\\users\\anush\\anaconda3\\lib\\site-packages (from tensorflow-intel==2.12.0->tensorflow>=2.9.0->tensorflow-recommenders) (0.2.0)\n",
      "Requirement already satisfied: h5py>=2.9.0 in c:\\users\\anush\\anaconda3\\lib\\site-packages (from tensorflow-intel==2.12.0->tensorflow>=2.9.0->tensorflow-recommenders) (3.6.0)\n",
      "Requirement already satisfied: jax>=0.3.15 in c:\\users\\anush\\anaconda3\\lib\\site-packages (from tensorflow-intel==2.12.0->tensorflow>=2.9.0->tensorflow-recommenders) (0.4.8)\n",
      "Requirement already satisfied: libclang>=13.0.0 in c:\\users\\anush\\anaconda3\\lib\\site-packages (from tensorflow-intel==2.12.0->tensorflow>=2.9.0->tensorflow-recommenders) (16.0.0)\n",
      "Requirement already satisfied: numpy<1.24,>=1.22 in c:\\users\\anush\\anaconda3\\lib\\site-packages (from tensorflow-intel==2.12.0->tensorflow>=2.9.0->tensorflow-recommenders) (1.22.4)\n",
      "Requirement already satisfied: opt-einsum>=2.3.2 in c:\\users\\anush\\anaconda3\\lib\\site-packages (from tensorflow-intel==2.12.0->tensorflow>=2.9.0->tensorflow-recommenders) (3.3.0)\n",
      "Requirement already satisfied: packaging in c:\\users\\anush\\anaconda3\\lib\\site-packages (from tensorflow-intel==2.12.0->tensorflow>=2.9.0->tensorflow-recommenders) (21.3)\n",
      "Requirement already satisfied: protobuf!=4.21.0,!=4.21.1,!=4.21.2,!=4.21.3,!=4.21.4,!=4.21.5,<5.0.0dev,>=3.20.3 in c:\\users\\anush\\anaconda3\\lib\\site-packages (from tensorflow-intel==2.12.0->tensorflow>=2.9.0->tensorflow-recommenders) (4.22.1)\n",
      "Requirement already satisfied: setuptools in c:\\users\\anush\\anaconda3\\lib\\site-packages (from tensorflow-intel==2.12.0->tensorflow>=2.9.0->tensorflow-recommenders) (61.2.0)\n",
      "Requirement already satisfied: six>=1.12.0 in c:\\users\\anush\\anaconda3\\lib\\site-packages (from tensorflow-intel==2.12.0->tensorflow>=2.9.0->tensorflow-recommenders) (1.16.0)\n",
      "Requirement already satisfied: termcolor>=1.1.0 in c:\\users\\anush\\anaconda3\\lib\\site-packages (from tensorflow-intel==2.12.0->tensorflow>=2.9.0->tensorflow-recommenders) (2.2.0)\n",
      "Requirement already satisfied: typing-extensions>=3.6.6 in c:\\users\\anush\\anaconda3\\lib\\site-packages (from tensorflow-intel==2.12.0->tensorflow>=2.9.0->tensorflow-recommenders) (4.1.1)\n",
      "Requirement already satisfied: wrapt<1.15,>=1.11.0 in c:\\users\\anush\\anaconda3\\lib\\site-packages (from tensorflow-intel==2.12.0->tensorflow>=2.9.0->tensorflow-recommenders) (1.12.1)\n",
      "Requirement already satisfied: grpcio<2.0,>=1.24.3 in c:\\users\\anush\\anaconda3\\lib\\site-packages (from tensorflow-intel==2.12.0->tensorflow>=2.9.0->tensorflow-recommenders) (1.53.0)\n",
      "Requirement already satisfied: tensorboard<2.13,>=2.12 in c:\\users\\anush\\anaconda3\\lib\\site-packages (from tensorflow-intel==2.12.0->tensorflow>=2.9.0->tensorflow-recommenders) (2.12.1)\n",
      "Requirement already satisfied: tensorflow-estimator<2.13,>=2.12.0 in c:\\users\\anush\\anaconda3\\lib\\site-packages (from tensorflow-intel==2.12.0->tensorflow>=2.9.0->tensorflow-recommenders) (2.12.0)\n",
      "Requirement already satisfied: keras<2.13,>=2.12.0 in c:\\users\\anush\\anaconda3\\lib\\site-packages (from tensorflow-intel==2.12.0->tensorflow>=2.9.0->tensorflow-recommenders) (2.12.0)\n",
      "Requirement already satisfied: tensorflow-io-gcs-filesystem>=0.23.1 in c:\\users\\anush\\anaconda3\\lib\\site-packages (from tensorflow-intel==2.12.0->tensorflow>=2.9.0->tensorflow-recommenders) (0.31.0)\n",
      "Requirement already satisfied: wheel<1.0,>=0.23.0 in c:\\users\\anush\\anaconda3\\lib\\site-packages (from astunparse>=1.6.0->tensorflow-intel==2.12.0->tensorflow>=2.9.0->tensorflow-recommenders) (0.37.1)\n",
      "Requirement already satisfied: ml-dtypes>=0.0.3 in c:\\users\\anush\\anaconda3\\lib\\site-packages (from jax>=0.3.15->tensorflow-intel==2.12.0->tensorflow>=2.9.0->tensorflow-recommenders) (0.0.4)\n",
      "Requirement already satisfied: scipy>=1.7 in c:\\users\\anush\\anaconda3\\lib\\site-packages (from jax>=0.3.15->tensorflow-intel==2.12.0->tensorflow>=2.9.0->tensorflow-recommenders) (1.7.3)\n",
      "Requirement already satisfied: google-auth<3,>=1.6.3 in c:\\users\\anush\\anaconda3\\lib\\site-packages (from tensorboard<2.13,>=2.12->tensorflow-intel==2.12.0->tensorflow>=2.9.0->tensorflow-recommenders) (2.17.1)\n",
      "Requirement already satisfied: google-auth-oauthlib<1.1,>=0.5 in c:\\users\\anush\\anaconda3\\lib\\site-packages (from tensorboard<2.13,>=2.12->tensorflow-intel==2.12.0->tensorflow>=2.9.0->tensorflow-recommenders) (1.0.0)\n",
      "Requirement already satisfied: markdown>=2.6.8 in c:\\users\\anush\\anaconda3\\lib\\site-packages (from tensorboard<2.13,>=2.12->tensorflow-intel==2.12.0->tensorflow>=2.9.0->tensorflow-recommenders) (3.3.4)\n",
      "Requirement already satisfied: requests<3,>=2.21.0 in c:\\users\\anush\\anaconda3\\lib\\site-packages (from tensorboard<2.13,>=2.12->tensorflow-intel==2.12.0->tensorflow>=2.9.0->tensorflow-recommenders) (2.28.2)\n",
      "Requirement already satisfied: tensorboard-data-server<0.8.0,>=0.7.0 in c:\\users\\anush\\anaconda3\\lib\\site-packages (from tensorboard<2.13,>=2.12->tensorflow-intel==2.12.0->tensorflow>=2.9.0->tensorflow-recommenders) (0.7.0)\n",
      "Requirement already satisfied: tensorboard-plugin-wit>=1.6.0 in c:\\users\\anush\\anaconda3\\lib\\site-packages (from tensorboard<2.13,>=2.12->tensorflow-intel==2.12.0->tensorflow>=2.9.0->tensorflow-recommenders) (1.8.1)\n",
      "Requirement already satisfied: werkzeug>=1.0.1 in c:\\users\\anush\\anaconda3\\lib\\site-packages (from tensorboard<2.13,>=2.12->tensorflow-intel==2.12.0->tensorflow>=2.9.0->tensorflow-recommenders) (2.0.3)\n",
      "Requirement already satisfied: pyparsing!=3.0.5,>=2.0.2 in c:\\users\\anush\\anaconda3\\lib\\site-packages (from packaging->tensorflow-intel==2.12.0->tensorflow>=2.9.0->tensorflow-recommenders) (3.0.4)\n",
      "Requirement already satisfied: cachetools<6.0,>=2.0.0 in c:\\users\\anush\\anaconda3\\lib\\site-packages (from google-auth<3,>=1.6.3->tensorboard<2.13,>=2.12->tensorflow-intel==2.12.0->tensorflow>=2.9.0->tensorflow-recommenders) (4.2.2)\n",
      "Requirement already satisfied: pyasn1-modules>=0.2.1 in c:\\users\\anush\\anaconda3\\lib\\site-packages (from google-auth<3,>=1.6.3->tensorboard<2.13,>=2.12->tensorflow-intel==2.12.0->tensorflow>=2.9.0->tensorflow-recommenders) (0.2.8)\n",
      "Requirement already satisfied: rsa<5,>=3.1.4 in c:\\users\\anush\\anaconda3\\lib\\site-packages (from google-auth<3,>=1.6.3->tensorboard<2.13,>=2.12->tensorflow-intel==2.12.0->tensorflow>=2.9.0->tensorflow-recommenders) (4.7.2)\n",
      "Requirement already satisfied: requests-oauthlib>=0.7.0 in c:\\users\\anush\\anaconda3\\lib\\site-packages (from google-auth-oauthlib<1.1,>=0.5->tensorboard<2.13,>=2.12->tensorflow-intel==2.12.0->tensorflow>=2.9.0->tensorflow-recommenders) (1.3.1)\n",
      "Requirement already satisfied: charset-normalizer<4,>=2 in c:\\users\\anush\\anaconda3\\lib\\site-packages (from requests<3,>=2.21.0->tensorboard<2.13,>=2.12->tensorflow-intel==2.12.0->tensorflow>=2.9.0->tensorflow-recommenders) (2.0.4)\n",
      "Requirement already satisfied: idna<4,>=2.5 in c:\\users\\anush\\anaconda3\\lib\\site-packages (from requests<3,>=2.21.0->tensorboard<2.13,>=2.12->tensorflow-intel==2.12.0->tensorflow>=2.9.0->tensorflow-recommenders) (3.3)\n",
      "Requirement already satisfied: urllib3<1.27,>=1.21.1 in c:\\users\\anush\\anaconda3\\lib\\site-packages (from requests<3,>=2.21.0->tensorboard<2.13,>=2.12->tensorflow-intel==2.12.0->tensorflow>=2.9.0->tensorflow-recommenders) (1.26.9)\n",
      "Requirement already satisfied: certifi>=2017.4.17 in c:\\users\\anush\\anaconda3\\lib\\site-packages (from requests<3,>=2.21.0->tensorboard<2.13,>=2.12->tensorflow-intel==2.12.0->tensorflow>=2.9.0->tensorflow-recommenders) (2021.10.8)\n",
      "Requirement already satisfied: pyasn1<0.5.0,>=0.4.6 in c:\\users\\anush\\anaconda3\\lib\\site-packages (from pyasn1-modules>=0.2.1->google-auth<3,>=1.6.3->tensorboard<2.13,>=2.12->tensorflow-intel==2.12.0->tensorflow>=2.9.0->tensorflow-recommenders) (0.4.8)\n",
      "Requirement already satisfied: oauthlib>=3.0.0 in c:\\users\\anush\\anaconda3\\lib\\site-packages (from requests-oauthlib>=0.7.0->google-auth-oauthlib<1.1,>=0.5->tensorboard<2.13,>=2.12->tensorflow-intel==2.12.0->tensorflow>=2.9.0->tensorflow-recommenders) (3.2.2)\n"
     ]
    },
    {
     "name": "stderr",
     "output_type": "stream",
     "text": [
      "\n",
      "[notice] A new release of pip is available: 23.1 -> 23.1.2\n",
      "[notice] To update, run: python.exe -m pip install --upgrade pip\n"
     ]
    },
    {
     "name": "stdout",
     "output_type": "stream",
     "text": [
      "Requirement already satisfied: tensorflow-hub in c:\\users\\anush\\anaconda3\\lib\\site-packages (0.13.0)"
     ]
    },
    {
     "name": "stderr",
     "output_type": "stream",
     "text": [
      "\n",
      "[notice] A new release of pip is available: 23.1 -> 23.1.2\n",
      "[notice] To update, run: python.exe -m pip install --upgrade pip\n"
     ]
    },
    {
     "name": "stdout",
     "output_type": "stream",
     "text": [
      "\n",
      "Requirement already satisfied: numpy>=1.12.0 in c:\\users\\anush\\anaconda3\\lib\\site-packages (from tensorflow-hub) (1.22.4)\n",
      "Requirement already satisfied: protobuf>=3.19.6 in c:\\users\\anush\\anaconda3\\lib\\site-packages (from tensorflow-hub) (4.22.1)\n"
     ]
    }
   ],
   "source": [
    "!pip install tensorflow-recommenders\n",
    "!pip install tensorflow-hub\n"
   ]
  },
  {
   "cell_type": "markdown",
   "metadata": {
    "id": "R8w0JwQcWr6e"
   },
   "source": []
  },
  {
   "cell_type": "code",
   "execution_count": 2,
   "metadata": {
    "id": "SKUIsLUbu0p5"
   },
   "outputs": [],
   "source": [
    "import csv\n",
    "# Read the form responses CSV file and store the data into a list of tuples\n",
    "data_list = []\n",
    "with open('form_responses.csv', 'r', newline='') as csvfile:\n",
    "    csv_reader = csv.reader(csvfile)\n",
    "    for row in csv_reader:\n",
    "        key = (int(row[0]), row[1], row[2], tuple(row[3].split(\";\")), tuple(row[4].split(\";\")), row[5])\n",
    "        value_list = [row[i:i+5] for i in range(6, len(row), 5)]\n",
    "        data_list.append((key, value_list))\n",
    "\n",
    "# Convert the list of tuples into a list of dictionaries\n",
    "reconstructed_data = []\n",
    "for i in range(0, len(data_list), 10):  # Assuming each dataset has 10 items\n",
    "    dataset_dict = dict(data_list[i:i+10])\n",
    "    reconstructed_data.append(dataset_dict)\n"
   ]
  },
  {
   "cell_type": "code",
   "execution_count": 1,
   "metadata": {
    "id": "XA36kbQYvCA6"
   },
   "outputs": [],
   "source": []
  },
  {
   "cell_type": "code",
   "execution_count": 3,
   "metadata": {
    "id": "AndsmMEEvhKL"
   },
   "outputs": [],
   "source": [
    "from collections import defaultdict\n",
    "import random\n",
    "\n",
    "(updated_data, user_id_counter, user_id_mapping, stim_id_counter, stim_id_mapping) = (defaultdict(list), 1, {}, 1, {})\n",
    "\n",
    "tlength = 0\n",
    "for i in reconstructed_data:\n",
    "    tlength += len(i)\n",
    "user_ids = list(range(1, tlength + 1))\n",
    "random.shuffle(user_ids)\n",
    "\n",
    "def gendat(datadict):\n",
    "    global updated_data, user_id_counter, user_id_mapping, stim_id_counter, stim_id_mapping\n",
    "    for user, interactions in datadict.items():\n",
    "        user = list(user)\n",
    "        user[0] = int(user[0])\n",
    "        user[5] = int(user[5])\n",
    "        user = tuple(user)\n",
    "\n",
    "        if user not in user_id_mapping:\n",
    "            user_id_mapping[user] = user_id_counter\n",
    "            user_id_counter += 1\n",
    "\n",
    "        user_id = user_id_mapping[user]\n",
    "\n",
    "        for interaction in interactions:\n",
    "            stim = interaction[0]\n",
    "\n",
    "            if stim not in stim_id_mapping:\n",
    "                stim_id_mapping[stim] = stim_id_counter\n",
    "                stim_id_counter += 1\n",
    "\n",
    "            stim_id = stim_id_mapping[stim]\n",
    "\n",
    "            updated_interaction = [stim_id] + [int(interaction[1])] + [int(interaction[2])] + [int(interaction[3])] + [int(interaction[4])]\n",
    "\n",
    "            updated_data[user_id].append(updated_interaction)\n",
    "\n",
    "for i in reconstructed_data:\n",
    "    gendat(i)"
   ]
  },
  {
   "cell_type": "code",
   "execution_count": 4,
   "metadata": {
    "colab": {
     "base_uri": "https://localhost:8080/"
    },
    "id": "U_mMT-H-ldyK",
    "outputId": "d4c15966-36cb-4567-fd24-fd577756a15b"
   },
   "outputs": [
    {
     "name": "stdout",
     "output_type": "stream",
     "text": [
      "{1: ('ASMR', 'I experience ASMR as an intense tingling sensation primarily in my scalp and neck, triggered by specific sounds or visuals like whispers, tapping and scratching.', '1'), 2: ('Clay', 'I like to fidget with clay because of the tactile sensations it creates in my hands', '1'), 4: ('Interactive story-line games', 'Sometimes when I am really engaged and focused on playing an interactive story-line game, I tend to bite on my fingers or nails as a stim. ', '1'), 5: ('Imaginary air calligraphy', \"Imaginary air calligraphy is a stim that involves moving one's finger in the air as if they are writing. It's like writing something in the invisible air.\", '1'), 6: ('Vigorous leg shaking', 'When I am anxious or overwhelmed, I shake my legs vigorously to release the excess energy.', '1'), 7: ('Random vigorous unruly dancing', 'I perform random vigorous and unruly dancing, which mostly involves moving my limbs and hips quickly in different directions.', '1'), 8: ('Leg shaking', 'Leg shaking', '1'), 9: ('Rolling a pen around', 'Rolling a pen around', '1'), 10: ('Cracking knuckles', 'When in a stimulating or exciting situation, I crack my knuckles repeatedly', '1'), 11: ('Tapping feet', \"When I stim by tapping my feet, it's usually in bursts of rhythmically consistent movements. I feel a sense of release through my body when I engage in this form of stimming.\", '1'), 12: ('Fidgeting hands', 'I usually fidget my hands by tapping my fingers or by rolling a pen between my fingers', '1'), 13: ('Tapping nails on hard surfaces', 'I tap my nails on hard surfaces in a rhythmic pattern to create a sound that is pleasing to me.', '1'), 14: ('Biting nails', 'Biting my nails is what I do as a stim. It helps me stay grounded and feel better.', '2'), 15: ('Following a rhythmic pattern with fingers', 'When I am feeling anxious, I tend to follow a rhythmic pattern with my fingers', '1'), 16: ('Snapping fingers', 'Snapping my fingers quickly by hitting the tips of my fingers against my palm repeatedly', '1'), 17: ('Hugging self', 'I often hug myself by wrapping my arms around my torso and pressing firmly. Sometimes I also like to rock back and forth while doing this.', '1'), 18: ('Popping joints', \"I often pop my joints throughout the day, whether it's cracking my knuckles or my neck. It's a way to release tension and anxiety for me.\", '2'), 19: ('Fidgeting', 'Fidgeting involves small movements of hands or legs to alleviate restlessness and anxiety.', '1'), 20: ('Rubbing feet together excessively', 'I rub my feet together repetitively', '1'), 21: ('Picking at sores', \"I have a habit of picking at sores on my skin, especially when I'm anxious or stressed.\", '2'), 22: ('Pulling out body hair', \"I have a habit of pulling out body hair when I'm anxious or need to focus. It's usually from my legs or arms.\", '2'), 23: ('Stress ball squeezing', 'I squeeze a stress ball in my hand as it helps me release the energy and relax my muscles.', '0'), 24: ('Chewing gum', 'Chewing gum helps me relieve my anxiety and fidgeting tendencies.', '1'), 25: ('Swinging legs', 'When I am feeling stressed, I swing my legs back and forth while sitting', '1'), 26: ('Tapping fingers', 'I tend to repeatedly tap my fingers on any nearby surface, sometimes to rhythm or beat of a song or just as a way to release nervous energy.', '1'), 27: ('Fidget spinner', 'I use a fidget spinner to stim. It has three prongs with a ball bearing in the center that allows it to spin. I enjoy the visual and tactile stimulation it provides.', '1'), 28: ('Knitting', 'Knitting helps me feel more relaxed and focused', '1'), 29: ('Stretching', 'Stretching helps me feel grounded and in control of my body', '0'), 30: ('Humming', 'Humming helps me regulate my thoughts and emotions. I usually do it when I am anxious or overwhelmed', '1'), 31: ('Rubbing hands', 'I rub my hands together quickly in a rhythmic pattern, alternating the pressure between my palms', '0'), 32: ('Deep pressure hugs', 'I use deep pressure hugs to stimulate my sense of touch.', '0'), 33: ('Spinning objects', 'When I am anxious or nervous, spinning objects is a helpful stim for me. I usually find objects like pens or rings to spin around my fingers. ', '1'), 34: ('Tapping objects', 'Tapping objects', '1'), 35: ('Repeating words or phrases', 'I repeat words or phrases to calm myself down or stay focused', '1'), 36: ('Juggling', \"I enjoy juggling different objects and the movement of my hands when doing so. It helps me focus better and calm down when I'm feeling overwhelmed.\", '0'), 37: ('Shuffling cards', \"When I'm shuffling cards, I like the sound it makes and the feel of the cards in my hands.\", '1'), 38: ('Playing with a fidget cube', 'I enjoy playing with different sides of the cube, clicking the buttons, spinning the gears and rolling the ball. It helps me feel grounded and releases excess energy.', '1'), 39: ('Rocking back and forth', 'I rock back and forth while seated or standing, with my weight shifting between my toes and heels.', '1'), 40: ('Flipping pages', 'Flipping pages of a book or magazine to feel the texture and sound of the paper.', '1'), 41: ('Listening to repetitive music', 'When I listen to repetitive music, I tend to rock back and forth while focusing on the beat', '1'), 42: ('Squeezing stress toys', 'I squeeze different kinds of stress toys to activate my vestibular system and calm down my senses', '1'), 43: ('Pacing', \"When I'm stimming by pacing, I tend to walk back and forth in a pattern for a while until I feel relief\", '1'), 44: ('Tracing patterns', 'Tracing patterns', '1'), 45: ('Drumming fingers', \"Drumming fingers is a repetitive movement of drumming one's fingers either on a surface or in the air.\", '1'), 46: ('Doodling', 'Doodling is a stimming mechanism where I create random sketches while focusing on an activity. ', '1'), 47: ('Whistling', 'When I stim with whistling, I purse my lips and exhale forcefully to create a sound. I usually whistle a tune or a song that I enjoy. ', '1'), 48: ('Stimming with hair', 'Stroking or twisting hair with fingers or hands', '1'), 49: ('Tapping on surfaces', \"When I'm stressed, I tend to tap on any nearby surface with my fingers or a pen that I have in hand. It has become an unconscious habit now and helps me calm down a bit.\", '1'), 50: ('Stretching hands', 'Stretching hands', '0'), 51: ('Using a fidget spinner', 'When I use a fidget spinner I hold it between my thumb and forefinger and spin it. It is satisfying to see it spin fast and create a whirl of movement.', '1'), 52: ('Bouncing a ball', 'Bouncing a ball', '1'), 53: ('Shaking leg', 'I shake my leg rapidly up and down repeatedly', '1'), 54: ('Rubbing fabric', 'When I rub fabric, I enjoy the feel of the texture and the sound it makes.', '1'), 55: ('Twirling hair', 'Twirling a strand of hair between my fingers', '1'), 56: ('Playing with putty', 'When I feel overwhelmed or anxious, I tend to play with putty which helps me focus and calm down.', '1'), 57: ('Squeezing stress ball', 'When I feel anxious, I tend to squeeze a stress ball to release some of my tension.', '0'), 58: ('Deep pressure', 'I use deep pressure as a stim by wrapping myself in a weighted blanket or squeezing myself between two pillows. It helps me feel more grounded and calm.', '1'), 59: ('Finger tapping', 'Finger tapping is a stim where I rhythmically tap my fingers on a surface. It helps me regulate my emotions and is a way to focus my sensory input. It helps me filter out other stimulations that may be overwhelming.', '0'), 60: ('Weighted blanket', \"I love using my weighted blanket because it feels like I'm being hugged. The pressure is really calming.\", '1'), 61: ('Swinging', 'Swinging back and forth while standing or seated, often while holding onto something for support.', '1'), 62: ('Stroking soft textures', \"Stroking soft textures gives me a feeling of comfort and helps me to calm down when I'm overwhelmed or anxious.\", '1'), 63: ('Deep breathing', 'I practice using deep breathing as a stim. It involves taking long, slow breaths, and feeling the air move in and out of my lungs', '1'), 64: ('Flapping hands', 'When I am feeling overwhelmed or overstimulated, I tend to flap my hands up and down. It helps me to regulate my emotions and get a better hold on my body.', '1'), 65: ('Using a fidget cube', 'I use a fidget cube to keep my hands occupied while being productive.', '1'), 66: ('Holding a worry stone', 'Holding and rubbing a smooth worry stone', '1'), 67: ('Weightlifting', 'Music helps me focus while lifting weights.', '0'), 68: ('Aromatherapy', 'When I use aromatherapy, I typically use essential oils and inhale deeply to smell them. It helps me relax and reduce stress.', '1'), 69: ('Crinkling paper', 'I like to crinkle paper in my hand or under my feet. It gives me a lot of sensory satisfaction.', '1'), 70: ('Using a worry bead', 'Using a worry bead to help me focus and ground myself', '1'), 71: ('Rocking', 'Rocking helps me release nervous energy and calms me down', '1'), 72: ('Pelvis grinding', 'When I am overwhelmed or need to focus, I sometimes grind my pelvis against my chair or a pillow. It provides a calming sensation and helps me regulate my emotions.', '1'), 73: ('Leaf tearing', 'Leaf tearing involves shredding pieces of paper or leaves with my fingers', '1'), 74: ('Hand flapping', 'Hand flapping', '1'), 75: ('Leg bouncing', 'I regularly bounce my leg up and down as a form of stimming.', '1'), 76: ('Pencil tapping', 'When I feel stimmy, I usually find myself tapping the end of my pencil with my fingers or shaking it so that it bounces off the table. It helps me focus and relieve tension in my body.', '1'), 77: ('Hair twirling', 'Hair twirling is a repetitive, rhythmic movement that involves twisting or pulling strands of hair. It is usually done with the fingers in a circular motion. ', '1'), 78: ('Skin picking', \"I tend to pick at my skin. It is usually when I'm anxious or stressed out, and it helps me to regulate my emotions.\", '2'), 79: ('Fidgeting with objects', 'When I am excited, I like to fidget with objects such as pens or paperclips as it helps me regulate my emotions.', '1'), 80: ('Button pressing', 'When I feel overstimulated or overwhelmed, I tend to press buttons around me, like the ones on my keyboard or even on my microwave', '1'), 81: ('Fidget spinning', 'I spin a fidget spinner on my finger. It helps me focus and relieve stress.', '1'), 82: ('Chewing on objects', 'Chewing on objects serves a calming effect on me. It helps me release the stress and anxiety. It also helps me concentrate better in certain situations like in lectures or meetings.', '2'), 83: ('Squeezing stress balls', 'When I use stress balls, I usually squeeze them rhythmically while focusing on my breath and the sensation of the ball in my hand. It helps me calm down and release excess energy.', '1'), 84: ('Tracing shapes on skin', 'Tracing shapes on skin', '0'), 85: ('Flipping a coin', 'I flip a coin and follow its movement with my eyes', '1'), 86: ('Breathing exercises', 'I use breathing exercises to stim by controlling the pace, duration, and depth of my breaths.', '1'), 87: ('Listening to white noise', 'I listen to white noise to stimulate my senses and relax myself during tough situations.', '1'), 88: ('Folding and unfolding paper', 'I usually fold and unfold paper repeatedly to keep myself engaged', '1'), 89: ('Tearing paper', 'I enjoy tearing paper into small pieces while playing with the little pieces that come out of it', '1'), 90: ('Stroking a soft object', 'Stroking a soft object', '1'), 91: ('Rubbing hands together', 'Rubbing hands together', '1'), 92: ('Pressing fingertips', 'Pressing fingertips', '1'), 93: ('Rubbing a soft fabric', 'Rubbing a soft fabric', '1'), 94: ('Jumping on a trampoline', 'Jumping on a trampoline', '1'), 95: ('Silicone fidget toys', 'I use silicone fidget toys as stimming mechanism', '1'), 96: ('Listening to music', 'Listening to music', '1'), 97: ('Fidgeting with a spinner ring', 'Fidgeting with a spinner ring', '1'), 98: ('Rhythmic tapping', 'I usually tap my fingers or feet rhythmically when I am happy or excited. It helps me to focus and feel grounded.', '1'), 99: ('Sensory brushes', 'When I stim with sensory brushes, I brush them gently over my skin to create a calming sensation. It helps me relax and focus better when I am feeling anxious or overwhelmed.', '1'), 100: ('Chewing jewelry', 'Chewing on jewelry helps me feel calmer and more focused', '2'), 101: ('Headphones with noise-cancellation', 'I tend to rock back and forth while holding tightly onto the headphones', '1'), 102: ('Stroking soft fabric', 'I stroke soft fabric, it gives me comfort', '1'), 103: ('Bouncing leg', \"When I'm sitting, I often bounce my leg up and down in a rhythmic motion.\", '1'), 104: ('Popping bubble wrap', \"I enjoy popping bubble wrap, especially when I'm feeling anxious or overwhelmed.\", '1'), 105: ('Visual stimming (e.g., glitter bottles)', 'I enjoy looking at glitter in a bottle and watching it slowly settle down', '1'), 106: ('Scented candles', 'I light scented candles and inhale their aroma while focusing on the flickering light', '1'), 107: ('Origami', 'I love to create intricate paper artworks by folding them into various shapes and figures.', '1'), 108: ('Running hands through kinetic sand', 'When I hold kinetic sand, I love to run my hands through it and feel the texture between my fingers.', '1'), 109: ('Stress toys (e.g., squishy balls)', 'I use stress balls to stim by squeezing and releasing them', '1'), 110: ('Fidget cube', 'I use a fidget cube which helps me to focus better and reduce my anxiety', '1'), 111: ('Ripping paper', 'When I experience stress or excitement, I like to rip paper into tiny pieces to deal with my emotions.', '1'), 112: ('String manipulation (e.g., yarn or cord)', 'I tend to use yarn a lot for stimming.', '1'), 113: ('Meditation', 'When I meditate, I like to focus on my breathing while sitting with my eyes closed.', '1'), 114: ('Vibrating toys', 'I use a vibrating toy, such as a fidget spinner or a vibrating bracelet, to stimulate me. It helps me focus and soothes me as well.', '1'), 115: ('Wearing noise-cancelling headphones', 'Wearing noise-cancelling headphones', '0'), 116: ('Using a worry stone', 'I use a worry stone which is a smooth, palm-sized stone that I hold between my thumb and index finger and rub gently. I find the repetitive motion of rubbing the stone to be calming and grounding.', '1'), 117: ('Tapping fingers on surfaces', 'I tap my fingers on surfaces to create rhythmical patterns that create a sense of calm and relaxation for me', '1'), 118: ('Counting breaths', 'Counting breaths', '0'), 119: ('Swaying', 'Swaying', '1'), 120: ('Squeezing hands', 'I squeeze my hands repeatedly', '1'), 3: ('Fill color', 'Fill color', '1'), 121: ('Stress ball', \"I use a stress ball that's filled with beans and has many colors on it. It's covered in stretchy fabric that's easy to grasp and manipulate to release pent up energy\", '1'), 122: ('Rubbing soft fabrics', 'I like to rub soft fabrics between my fingers.', '1'), 123: ('Playing with hair', 'Twirling and playing with hair', '1'), 124: ('Using a fidget toy', 'Using a fidget toy helps me relax and focus my mind when I am feeling overwhelmed or stressed.', '0'), 125: ('Flipping pen', \"I like to flip pens around my fingers whenever I'm overwhelmed or under too much stress\", '1'), 126: ('Spinning in chair', \"When I spin in my chair, it helps me to calm down and focus on what I'm doing.\", '1'), 127: ('Playing with slime', 'Playing with slime', '0'), 128: ('Chewing on pen caps', 'I find chewing on pen caps calming and soothing. It helps me focus and reduces my anxiety.', '1'), 129: ('Rubbing a worry stone', 'Rubbing a smooth, flat worry stone with my thumb', '1'), 130: ('Gardening', 'When I am feeling anxious or overwhelmed, I like to go outside and tend to my plants. It helps me to focus and calm down.', '1'), 131: ('Completing puzzles', 'When I am enjoying completing puzzles, I generally rock back and forth or move my hands in a repetitive motion.', '1'), 132: ('Walking', 'When I feel overwhelmed or overstimulated, I like to walk around in circles or pace back and forth. I have a specific route I take and I find it helps me to calm down and refocus.', '1'), 133: ('Wrist squeezing', 'Wrist squeezing is a stim where I will squeeze my wrist or apply pressure using an elastic band or bracelet. It provides me with sensory input and helps me calm down or focus on a task.', '1'), 134: ('Video games', 'When I am playing video games, I tend to constantly tap my foot and fidget with my fingers. It helps me concentrate and stay focused.', '2'), 135: ('Yoga', 'When I practice yoga, I tend to do repetitive motions and breathing exercises that help me focus and calm my mind.', '0'), 136: ('Dancing', 'I love to dance to my favourite music. It usually involves a lot of movement of my limbs and jumping around.', '1'), 137: ('Playing piano', 'Playing piano helps me focus and relax', '1'), 138: ('Woodworking', \"When I am woodworking, I often run my fingers over the different textures and bumps of the wood as I'm sanding or carving it into shape. It's a very tactile and repetitive movement that helps me focus and feel calm.\", '1'), 139: ('Singing', 'When I stim with singing, I usually feel a sense of release and sometimes even euphoria. Singing is my go-to stim.', '0'), 140: ('Swimming', 'Swimming helps me regulate my body and feel calm. It also gives me a sense of weightlessness which feels really soothing.', '1'), 142: ('Drawing', \"When I'm feeling anxious or overwhelmed, I like to draw shapes and patterns. It helps me focus and calms me down.\", '0'), 143: ('Photography', 'Looking at and organizing photographs', '1'), 144: ('Hiking', 'When I am hiking, I tend to jump from rock to rock as a way of getting my energy out.', '1'), 145: ('Journaling', 'For my stim, I tend to journal a lot. I write about my thoughts, emotions, and experiences, and it helps me regulate my emotions and feel more in control. ', '1'), 146: ('Pen clicking', 'I have a habit of repeatedly clicking my pen throughout the day.', '1'), 147: ('Foot tapping', 'I tap my feet rhythmically on the floor when I am anxious or excited.', '1'), 148: ('Tracing shapes with fingers', 'I have a stim where I trace shapes with my fingers', '1'), 149: ('Using stress balls', 'I use stress balls to relieve stress and anxiety.', '1'), 150: ('Nail biting', 'Nail biting is my stimming mechanism. I keep biting my nails to feel calm and focused.', '2'), 151: ('Rubbing textures', 'Rubbing different textures like clothes, bed sheets, textured objects, hair etc', '1'), 152: ('Stroking soft objects', 'Stroking soft objects', '1'), 153: ('Twirling objects', 'Twirling objects is a stim where I spin my pen, pencil or any small object between my fingers, it can be very soothing.', '1'), 154: ('Using fidget toys', 'When I am feeling anxious or overwhelmed, I use fidget toys such as a spinner or a stress ball to stim and help me focus on the task at hand.', '1'), 155: ('Wiggling fingers', 'I wiggle my fingers by rapidly moving them back and forth horizontally or vertically', '1'), 157: ('Playing with a necklace or bracelet', 'Playing with a necklace or bracelet', '1'), 158: ('Jiggling leg', 'I jiggle my leg up and down vigorously while seated or standing. It is a constant movement that I engage in when I am focused or under stress.', '1'), 161: ('Textured clay molding', 'I love molding textured clay as it provides me with a sensory experience and helps me relax.', '1'), 162: ('Color mixing meditation', \"Color mixing meditation is a technique I use where I picture different colored light rays combining in my mind's eye to create new colors\", '0'), 163: ('Finger painting', 'Finger painting is a great way for me to feel the textures and see the colors blend together as I create something that is unique and beautiful to me.', '1'), 164: ('Weighted dance movement', \"When I'm stressed, I tend to do repetitive dance movements which involve shifting my weight from one leg to the other. It looks like I'm swaying my hips.\", '1'), 165: ('Ambient soundscapes', 'To me, ambient soundscapes are a way to ground myself in my surroundings and create a constant background noise that I can rely on. I often listen to them when I need to concentrate, when I am feeling overwhelmed, or when I need to regulate my emotions in a busy environment.', '1'), 166: ('Digital doodling', \"I enjoy digital doodling on my tablet using various drawing software. It involves drawing random shapes, patterns and designs with my stylus until it creates a pattern that I'm happy with.\", '1'), 167: ('Patterned knitting', \"When I'm feeling stressed or overwhelmed, I find myself drawn towards patterned knitting. It involves focusing on the repetitive movements of my hands, which helps me calm down and refocus my thoughts.\", '1'), 168: ('Music-driven pacing', \"I pace or bounce my body to the rhythm or beat of music that I'm listening to, it helps me concentrate while working on tasks or eases my stress.\", '1'), 169: ('Doodling on skin', 'I love doodling on my skin when I am feeling overwhelmed or anxious.', '1'), 170: ('Scripted monologues', 'Sometimes when I am feeling overwhelmed or anxious, I find myself scripting complex monologues from my favorite books or movies. It feels like slipping into a familiar world where the words already exist, leaving my mind free to absorb and process my emotions. However, there are times when I catch myself scripting in inappropriate situations, which can lead to embarrassment or discomfort. Overall though, I find this stim to be largely positive in my life.', '1'), 171: ('Guitar string plucking', 'I frequently pluck guitar strings to create music.', '1'), 172: ('Reciting poetry', 'Reciting poetry helps me re-center myself and manage my emotions effectively.', '1'), 173: ('Flour kneading', 'I use flour kneading as a stim by repetitively folding and pressing the dough', '1'), 174: ('Vocal warm-ups', 'I have a specific pitch that I hum repeatedly, sometimes varying it with a gentle vibrato.', '1'), 175: ('Fabric stroking', 'Fabric stroking is one of my primary stims. I love rubbing my hands over different textures and fabrics as it fills me with a sense of calm and comfort.', '0'), 176: ('Ink brush strokes', 'I use an ink brush to stim regularly by making brush strokes on a paper surface', '1'), 177: ('Pottery wheel spinning', 'I enjoy spinning the pottery wheel to create structures and patterns', '1'), 178: ('Flowing dance movements', \"When I'm excited or overwhelmed, I tend to do flowing dance movements which involve gentle swaying of my body and rhythmic arm movements.\", '1'), 179: ('Soil sifting', 'Soil sifting involves running soil through fingers or a sieve to feel the texture.', '1'), 180: ('Palette knife painting', 'I like to use a palette knife for painting as it provides a tactile sensation and allows me to explore different textures in my artwork.', '1'), 181: ('Sensory sculpting', 'Sensory sculpting involves creating shapes with playdough or putty to regulate sensory input', '1'), 182: ('Nature photography', \"I love scrolling through nature photography pictures and saving them in my folder, it's a calming experience for me.\", '1'), 183: ('Piano improv', 'I play a melody on the piano and allow my fingers to continue flowing on the keys. I love the sound and the feeling of playing the piano which puts me in a state of ease.', '1'), 185: ('Textile manipulation', 'I like to touch and roll textured fabrics between my fingers, and rub the seams of the shirt when I get anxious.', '1'), 186: ('Freestyle dance', 'Freestyle dance involves moving your body in a fluid motion to music', '1'), 188: ('Aromatic cooking', \"When I'm feeling overwhelmed, I like to inhale the aroma of spices as they're cooking. It's soothing and helps me relax.\", '1'), 189: ('Violin string harmonics', 'I like to pluck the harmonics on the A string, producing a high-pitched, bell-like sound', '1'), 190: ('Macro photography', \"When I'm feeling anxious or overwhelmed, I tend to take out my camera and start taking macro photographs. I love focusing on the smallest details of things such as flowers, insects, or everyday objects. It brings me a sense of calm and helps me stay present in the moment.\", '1'), 191: ('Spinning coins', 'Spinning coins is one of my stims as I love watching the coin spin for a long time.', '1'), 192: ('Creating patterns with eraser shavings', 'Creating patterns with eraser shavings', '1'), 193: ('Folding origami', 'I enjoy folding origami as a way of stimming', '1'), 194: ('Inventing handshakes', 'I like to invent and practice unique handshakes', '0'), 195: ('Painting with fingers', 'I love to paint with my fingers, I find it very soothing and a great way to release my energy.', '1'), 196: ('Doodling with a stylus pen', 'I enjoy doodling shapes and patterns with a stylus pen, it helps me calm down and focus my thoughts.', '1'), 197: ('Creating sculptures with pipe cleaners', \"I love creating sculptures with pipe cleaners, it's a tactile and calming activity that helps me relax and focus my mind.\", '1'), 198: ('Tapping on different surfaces to make sounds', 'Tapping on different surfaces to make sounds', '1'), 199: ('Pressing piano keys softly', 'When I am feeling overwhelmed, I like to press piano keys softly as a stimming mechanism.', '1'), 200: ('Colorful rubber band twirling', 'I twirl a colorful rubber band between my fingers', '1'), 201: ('Sketching shapes in the air', 'When I am stimming, I often sketch shapes in the air.', '1'), 202: ('Strumming guitar strings', 'Strumming guitar strings', '1'), 203: ('Rearranging objects to make patterns', 'Rearranging objects like rocks or paperclips to create patterns', '0'), 204: ('Layering sounds with a music app', 'I layer different sounds on my music app, such as nature sounds or white noise', '1'), 205: ('Playing with magnetic putty', 'I like to manipulate magnets and magnetic putty in my hands while I work on tasks or relax.', '1'), 206: ('Knitting patterns', 'I usually knit by moving my hands quickly in a rhythmic manner, the sound and feeling of the knitting needles and yarn helps me to focus and feel relaxed', '1'), 207: ('Experimenting with 3D pen', 'My stim involves using a 3D pen to create intricate designs and shapes.', '1'), 208: ('Creating custom fidget spinners', 'I like to spin fidget toys, especially custom made fidget spinners which I design and create myself using 3D printing', '1'), 209: ('Creating shapes with hands', 'Creating shapes with hands', '1'), 210: ('Playing with kinetic sand', 'I enjoy manipulating kinetic sand with my hands, feeling the grains through my fingertips and molding them into different shapes.', '1'), 211: ('Humming self-composed tunes', 'I hum self-composed tunes to keep myself calm and focused during times of stress.', '1'), 212: ('Braiding strings or yarn', 'I like to braid strings or yarn together with my fingers while I watch TV or think deeply about something', '1'), 213: ('Tapping drumsticks on surfaces', 'I tap the drumsticks rhythmically on different surfaces, sometimes in a particular pattern.', '1'), 214: ('Sketching with different pen tips', \"I like to sketch with different pen tips because it gives me a sensory experience that helps me relax and focus. I enjoy the feel of each pen tip's unique texture and it's interesting to see how they affect the lines I draw.\", '1'), 215: ('Creating patterns with stickers', 'I like to stick stickers on different surfaces creating colorful patterns.', '1'), 216: ('Threading beads', 'I like to thread beads in a repetitive motion with my fingers', '1'), 217: ('Sewing different fabrics together', \"When I'm feeling anxious, I like to do some hand-sewing with different fabrics. It helps me focus and feel more grounded.\", '1'), 218: ('Creating intricate pottery designs', 'Creating intricate pottery designs', '1'), 219: ('Folding and arranging textiles', 'I like to fold and arrange textiles to feel the texture and the shapes of the fabrics', '1'), 220: ('Plucking violin strings', 'Plucking violin strings', '1'), 221: ('Creating photo collages', 'I often rearrange photos in a collage format using photo editing apps.', '1'), 222: ('Inventing unique pen grips', \"I often twist my pen around my fingers in a unique way, it's hard to describe but it's almost like I'm playing with a Rubik's cube while writing.\", '1'), 223: ('Juggling small objects', 'Juggling small objects', '1'), 224: ('Shaping clay figures', 'Shaping clay figures', '1'), 225: ('Blowing air into the flute', 'Blowing air into the flute', '1'), 226: ('Drawing in the air with a laser pointer', 'Drawing in the air with a laser pointer', '1'), 227: ('Creating intricate hand signs', 'Creating intricate hand signs', '0'), 228: ('Tapping piano keys rhythmically', 'I enjoy rhythmically tapping piano keys as a form of stimming.', '1'), 229: ('Experimenting with dance moves', 'I like to experiment with different dance moves, it makes me happy and helps me relax.', '1'), 230: ('Manipulating putty or slime', 'I enjoy manipulating putty or slime by squeezing it, stretching it, or just holding it in my hands.', '1'), 231: ('Painting with watercolors', \"When I paint with watercolors, I love the way the colors blend and flow together on the paper. It's very soothing for me and helps me focus when I'm feeling overwhelmed or anxious.\", '1'), 232: ('Creating harmonies by humming', \"When I'm feeling happy or excited, I usually hum tunes and create harmonies to them.\", '1'), 233: ('Playing with textured fabrics', 'When I am stimming using textured fabrics, I tend to rub the fabric between my fingers gently while also feeling the texture of the fabric. ', '0'), 234: ('Twisting pipe cleaners into shapes', 'Twisting pipe cleaners into various shapes', '1'), 235: ('Plucking guitar strings softly', 'Plucking guitar strings softly', '1'), 236: ('Sketching with charcoal', 'When I am sketching with charcoal, I feel a sense of control and calmness. Charcoal has a rough texture which feels good to touch and its dark black color is soothing to me. While sketching, I do this repetitive motion which helps me to focus on the task at hand.', '1'), 237: ('Manipulating small objects for photography', \"When I'm taking pictures, I like to fiddle with small objects in my pocket, like coins or a stress ball.\", '1'), 238: ('Creating patterns with light and shadows', 'I like to create patterns with light and shadows by shining light through my window blinds and playing with the shapes with my hands.', '1'), 239: ('Tap dancing with fingers', 'I tap my fingers on any hard surface in a rhythmic pattern', '1'), 240: ('Creating rhythmic beats on surfaces', 'I drum my fingers on surfaces to create rhythmic beats regularly', '1'), 242: ('Playing with marbles or small balls', 'For me, playing with marbles is a way to stimulate my senses and feel comforted. It helps me relax and focus. ', '1'), 243: ('Singing in different voices', 'I like to sing in different voices, it helps me feel calm and regulated', '1'), 244: ('Pressing piano keys in patterns', 'Pressing piano keys in patterns', '1'), 245: ('Painting with different brushes', \"I like to switch between different paintbrushes when painting. It keeps my hands occupied and helps me concentrate. It's also fun to experiment with different brushes and stroke techniques!\", '1'), 246: ('Creating shapes with shadows', 'When I am feeling overwhelmed or anxious, I like to make shapes with my hands and play with the shadows they create.', '1'), 247: ('Shaping clay with tools', 'I like to shape and mold clay with tools like a knife or a rolling pin', '1'), 248: ('Writing with a calligraphy pen', 'Writing letters or patterns with a calligraphy pen.', '1'), 249: ('Taking macro photos of textures', 'Taking macro photos of textures', '1'), 250: ('Strumming guitar gently', 'Strumming guitar gently', '1'), 251: ('Doodling with various colors', 'Doodling with various colors', '1'), 252: ('Singing in a whisper', 'I tend to sing in a whispering tone while shaking my leg', '1'), 253: ('Playing with bouncy balls', 'I enjoy playing with bouncy balls as a stim.', '1'), 254: ('Writing with different fonts', 'I like to write with different fonts', '1'), 255: ('Painting with a palette knife', 'Using a palette knife to paint can be very satisfying for me as I love the texture it creates. ', '1'), 256: ('Playing violin with a mute', 'Playing violin with a mute', '1'), 258: ('Singing in a falsetto', 'I sing in a falsetto to a tone and melody that feels soothing and calming to me.', '1'), 259: ('Drawing with a digital pen', 'When I draw with a digital pen, I feel an urge to move my hand in a repetitive motion. It is often accompanied by a ticking sound from the pen touching the tablet. This helps me focus and eases my anxiety.', '1'), 260: ('Tapping drumsticks on various objects', 'Tapping drumsticks on various objects', '1'), 261: ('Creating visual patterns with light', 'I use LED toys to create mesmerizing visual patterns', '1'), 262: ('Wearable fidget jewelry', 'Wearable fidget jewelry', '1'), 263: ('Deep pressure vests', 'Deep pressure vests provide a calming effect to me and help me regulate my senses.', '1'), 264: ('Aromatherapy diffusers', 'I often find myself fidgeting with my aromatherapy diffuser by turning it on and off and changing the settings.', '1'), 265: ('Textured silicone rings', \"I use textured silicone rings to stim. They're small rings I can fiddle with using my fingers. It creates a tactile stimulation that helps me calm down or focus.\", '1'), 266: ('Weighted blankets', 'When I am feeling anxious, I like to use a weighted blanket for sensory input and pressure. It feels like a comforting hug and helps me feel grounded and calm.', '1'), 267: ('Stress balls', 'I enjoy using stress balls which includes squeezing them or rolling them in my hands', '1'), 268: ('Fidget cubes', 'I like to use fidget cubes to satisfy my sensory needs.', '1'), 269: ('Mindfulness meditation', 'During mindfulness meditation, I focus on my breathing and try to bring my focus to the present. I may also use tactile stimming, such as rubbing my fingers together or tapping my leg.', '1'), 270: ('Essential oil rollers', 'I use essential oil rollers to stim by applying them to the insides of my wrists and taking deep inhales. The sensation of the cold rollerball mixed with the calming scent helps me regulate my emotions.', '1'), 271: ('Handheld massage rollers', 'I use a handheld massage roller to stim. It has multiple small nodes that press into my skin to provide sensory feedback.', '1'), 272: ('Noise-canceling headphones', 'I use my noise-canceling headphones to regulate my sensory input and tune out background noise.', '1'), 273: ('Tactile putty', 'I use tactile putty as a stim mechanism. It has a texture that is incredibly satisfying to touch and manipulate.', '1'), 274: ('Squishy stress toys', 'I love squishy stress toys because they are soft and satisfying to squish and release repeatedly.', '1'), 275: ('Fidget spinners', 'I use fidget spinners to stim by spinning them in my hand or on a surface', '1'), 276: ('Compression clothing', 'I wear compression clothing like leggings or socks to help me feel more grounded and regulate my nervous system.', '1'), 277: ('Chewable jewelry', \"When I'm anxious, I like to chew on things, so I wear chewable necklaces which are made of silicone material\", '2'), 278: ('Silicone chew toys', 'I use silicone chew toys as a stim. It helps me manage my anxiety and regulate my emotions.', '2'), 279: ('Tangle toys', 'I twist and turn the tangle toy in my fingers to regulate my senses.', '1'), 280: ('Kinetic sand', \"I enjoy playing with Kinetic sand. It's a moldable and squishy material that smells pleasant, and it provides a good sensory input.\", '1'), 281: ('Worry stones', 'When I feel anxious or stressed, I rub my worry stone between my fingers as a form of stimming mechanism.', '1'), 282: ('Vibrating cushions', 'I use a vibrating cushion to stimulate my senses', '1'), 283: ('Resistance bands', 'I use resistance bands to stretch and apply pressure to my muscles in different ways.', '1'), 284: ('Beaded bracelets', 'I use beaded bracelets as a stim. I like to run my fingers over the beads and feel their texture and weight', '1'), 285: ('Visual stimming apps', 'I use a visual stimming app that has colorful images and patterns that move around in various ways', '1'), 286: ('Fidget pad', 'I have a fidget pad with buttons and switches, and I enjoy pressing them all in a pattern', '0'), 287: ('Deep breathing exercises', 'When I stim using deep breathing exercises, I inhale deeply through my nose and exhale slowly through my mouth. Sometimes, I count my breaths or imagine the air entering and leaving my lungs. It is calming and helps me regulate my emotions.', '1'), 288: ('Weighted lap pads', \"When I'm anxious or overwhelmed, I tend to use my weighted lap pad as a stim. It has a calming effect on me and helps me relax.\", '1'), 289: ('Finger labyrinths', 'Finger labyrinths are small discs or boards with a painted spiral or a maze, and one has to put a finger on it and follow the path from the outside in to the center to complete it.', '1'), 290: ('Spiky sensory balls', 'I use spiky sensory balls as a stim which involve tactile stimulation by running my hands over them and squeezing them', '1'), 291: ('Guided imagery', 'I use guided imagery as a stimming mechanism. It involves using my imagination to create a vivid sensory experience, like picturing myself in a calm and peaceful place or imagining positive scenarios.', '1'), 292: ('Therapeutic swinging', \"When I'm feeling overwhelmed or anxious, I like to swing. It provides me with sensory input and I find it extremely calming.\", '0'), 293: ('Progressive muscle relaxation', 'I clench and unclench my muscles in a specific pattern, starting from my toes and moving up my body', '0'), 294: ('Deep pressure therapy', 'Deep pressure therapy involves the application of firm and consistent pressure to oneâ€™s body using a weighted blanket, vest or lap pad.', '1'), 295: ('Body sock', 'When I use a body sock, it feels like a cozy hug from all around my body. I love the feeling of the fabric against my skin and the pressure that the sock creates.', '1'), 296: ('Fidget rings', 'I use fidget rings to stim by spinning the rings on my fingers or rolling them around in my palm.', '1'), 297: ('Hair pulling', 'I like to pull strands of hair and feel the texture between my fingertips', '2'), 298: ('Picking at lips', 'Picking at my lips is a stim that I regularly engage in. I do it as a way to regulate my anxiety or when I feel nervous. It helps me focus and stay calm.', '2'), 299: ('Biting the inside of the cheek', 'Biting the inside of the cheek', '2'), 300: ('Hitting oneself', 'Hitting oneself', '2'), 301: ('Rubbing eyes excessively', 'Rubbing eyes in a circular motion for a few minutes', '2'), 302: ('Pressing fingertips into skin', 'Pressing fingertips into skin', '2'), 303: ('Twisting hair around fingers', 'I twist my hair around my fingers for sensory stimulation', '1'), 304: ('Scratching skin', 'When I am stressed or anxious, I tend to scratch my skin, especially around my arms and neck.', '2'), 305: ('Biting cuticles', 'Biting cuticles', '2'), 306: ('Tapping teeth', 'When I am feeling overwhelmed, I have a tendency to tap my teeth with the tip of my tongue. It gives me some relief and helps me regulate my emotions.', '1'), 307: ('Pinching skin', 'Pinching skin is a stim where I grab some area of my skin in between my fingers and apply pressure by pinching. I typically do this on my arms or thighs.', '2'), 308: ('Chewing lips', 'I chew my lips vigorously to reduce anxiety', '2'), 309: ('Tapping objects against skin', 'When I am stimming, I usually tap objects against my skin as a way to self-soothe or calm myself down.', '1'), 310: ('Biting objects', \"When I'm feeling anxious or excited, I often find myself biting objects like pen caps, straws, or even my fingernails.\", '2'), 311: ('Pressing nails into skin', \"It's a form of tactile stimming for me. Sometimes I rub my nails very lightly across my skin, or press them into the skin. It's satisfying in a sensory way.\", '2'), 312: ('Biting on knuckles', 'When I am feeling overwhelmed or overstimulated, I tend to bite on my knuckles as a way to self-regulate.', '2'), 313: ('Picking at scabs', 'Picking at scabs', '2'), 314: ('Tugging on hair', 'Tugging on my hair usually involves running my fingers through my hair and pulling gently. It feels comforting and can help me focus.', '1'), 315: ('Chewing on clothes', 'Chewing on clothes', '2'), 316: ('Digging nails into skin', 'Digging my nails into my skin gives me a sense of grounding and helps me focus better', '2'), 317: ('Rubbing hands on rough surfaces', 'I rub my hands on rough surfaces to feel the textures and sensations it creates', '1'), 318: ('Biting on pencils', 'Biting on pencils', '2'), 319: ('Tapping fingers on skin', \"When I stim by tapping my fingers on my skin, it feels like I'm creating a rhythmic pattern with my own body. It makes me feel more grounded in the present moment, and it helps me focus on the task at hand. The sensation of tapping can sometimes be a bit overwhelming or distracting, especially if I'm in a high-stress situation.\", '1'), 320: ('Grinding teeth', 'Grinding my teeth helps me to focus and reduces stress', '2'), 321: ('Tearing at skin around nails', 'I tend to pick at the skin around my nails with my fingers.', '2'), 322: ('Rubbing fingertips on skin', 'When I feel overwhelmed or overstimulated, I find myself rubbing my fingertips on my skin. It provides a calming sensory input and helps me deal with my emotions.', '1'), 323: ('Chewing on hair', 'Chewing on hair', '2'), 324: ('Tapping objects on teeth', 'Tapping objects on teeth', '1'), 325: ('Twisting fingers', 'When I am feeling anxious, I twist my fingers in unique patterns.', '2'), 326: ('Rubbing skin excessively', 'I rub my skin excessively which soothes me and helps me calm down.', '2'), 327: ('Thumb sucking', 'When I get anxious, I often suck my thumb to calm myself down.', '2'), 328: ('Biting lip', 'When I get overwhelmed or anxious, I tend to bite my lip. It is an automatic response and gives me a sense of comfort and relief.', '2'), 329: ('Head scratching', \"I tend to scratch my head a lot when I'm anxious or thinking deep about something\", '1'), 330: ('Ear flicking', 'Ear flicking is a repetitive movement of the fingers flicking in front of ears. The sound created by this small movement is soothing to hear.', '2'), 331: ('Hitting self', 'Hitting myself rhythmically on the thighs or arms', '2'), 332: ('Cuticle picking', 'Cuticle picking involves picking and biting the skin around the nails. I tend to do it when I am anxious or stressed out.', '2'), 333: ('Squeezing hands tightly', 'When I get sensory overloaded or anxious, I squeeze my hands tightly to provide myself with a deep pressure input', '1'), 334: ('Rubbing temples', 'Rubbing temples is my stim. I like to use my fingers to gently rub the temples in a circular motion.', '0'), 335: ('Folding arms', \"When I am happy or excited I tend to fold my arms in a certain way, it's always been a comfortable and familiar motion for me.\", '1'), 336: ('Biting inside of cheeks', 'I tend to bite the inside of my cheeks until it feels better', '2'), 337: ('Stimming bracelet', 'I wear a stimming bracelet that has beads of different colors and textures that I like to touch and fiddle with', '1'), 338: ('Scratching', 'Scratching is when I tend to rub my fingers against the surface of the skin, mostly around my hands and forearms.', '1'), 141: ('Running', \"Whenever I feel overwhelmed with stuff, I'd occasionally get up and running around. The physical sensation of getting worn out somehow helps me\", '1'), 156: ('Counting objects', 'Whenever I feel under stimulated and bored, I start counting random objects around me ', '1'), 159: ('Flipping through pages', \"If there's any book near me whenever I feel overstimulated, I sometimes start flipping through the pages in that book\", '1'), 160: ('Rearranging items', 'I tend to randomly rearrange random stuff around me whenever I feel anxious or stressed.', '1'), 184: ('Creative writing prompts', 'I sometimes start putting up creative writing prompts whenever I feel bored', '1'), 187: ('Detailed sketching', 'I start sketching about random people or objects (sometimes even erotic stuff) in my notebook whenever I feel bored', '1'), 241: ('Inventing new writing styles', 'Whenever I feel bored, I start writing in different handwritings randomly and call it new writing styles', '1'), 257: ('Manipulating strings into patterns', 'Whenever I feel very much bored or very much stressed, I start twisting and rearranging the strings lying around me into random patterns', '1')}\n"
     ]
    }
   ],
   "source": [
    "import csv\n",
    "stimdata=[]\n",
    "new_stim_id_mapping={}\n",
    "with open('Updated_StimData.csv','r',newline='') as f:\n",
    "  reader = csv.reader(f, delimiter=',')\n",
    "  for row in reader:\n",
    "    stimdata.append(row)\n",
    "for i in stimdata:\n",
    "  new_stim_id_mapping[int(i[0])]= (i[1],i[2],i[3])\n",
    "print(new_stim_id_mapping)"
   ]
  },
  {
   "cell_type": "code",
   "execution_count": 5,
   "metadata": {
    "id": "oNHSYNlnYX3G"
   },
   "outputs": [],
   "source": [
    "import numpy as np\n",
    "import pandas as pd\n",
    "import tensorflow as tf\n",
    "import tensorflow_recommenders as tfrs\n",
    "import sklearn\n",
    "from typing import Dict, Text\n",
    "import os\n",
    "import pprint\n",
    "import tempfile"
   ]
  },
  {
   "cell_type": "code",
   "execution_count": 6,
   "metadata": {
    "colab": {
     "base_uri": "https://localhost:8080/"
    },
    "id": "6edc-8k1A1FE",
    "outputId": "5c5a9491-51a2-480b-9cfa-a08cbed2a91a"
   },
   "outputs": [
    {
     "name": "stdout",
     "output_type": "stream",
     "text": [
      "182\n"
     ]
    }
   ],
   "source": [
    "stims_df = pd.DataFrame(stim_id_mapping.items(), columns=['name', 'stim_id'])\n",
    "users_df = pd.DataFrame(user_id_mapping.keys(), columns=['age', 'gender', 'sexuality', 'neurodivergent_conditions', 'hobbies', 'stimming_essentiality_score'])\n",
    "users_df['user_id'] = user_id_mapping.values()\n",
    "interaction_list = []\n",
    "for user_id, interactions in updated_data.items():\n",
    "    for interaction in interactions:\n",
    "        interaction_list.append([user_id] + interaction)\n",
    "\n",
    "interactions_df = pd.DataFrame(interaction_list, columns=['user_id', 'stim_id', 'usefulness_score', 'frequency_score', 'sensory_regulation_score', 'discomfort_score'])\n",
    "print(len(users_df['user_id'].values))\n",
    "users_df['neurodivergent_conditions'] = [np.array(x) if isinstance(x, (list, tuple)) else np.array([]) for x in users_df['neurodivergent_conditions']]\n",
    "stims_df['description'] = stims_df['stim_id'].apply(lambda x: new_stim_id_mapping.get(x, \" \")[1])\n",
    "stims_df['harmfulness_score'] = stims_df['stim_id'].apply(lambda x: int(new_stim_id_mapping.get(x, 1)[2]))"
   ]
  },
  {
   "cell_type": "code",
   "execution_count": 7,
   "metadata": {
    "colab": {
     "base_uri": "https://localhost:8080/",
     "height": 814
    },
    "id": "hBAveul-Hzp0",
    "outputId": "2363cce6-850f-451d-89dc-3597bd76da93"
   },
   "outputs": [
    {
     "data": {
      "text/html": [
       "<div>\n",
       "<style scoped>\n",
       "    .dataframe tbody tr th:only-of-type {\n",
       "        vertical-align: middle;\n",
       "    }\n",
       "\n",
       "    .dataframe tbody tr th {\n",
       "        vertical-align: top;\n",
       "    }\n",
       "\n",
       "    .dataframe thead th {\n",
       "        text-align: right;\n",
       "    }\n",
       "</style>\n",
       "<table border=\"1\" class=\"dataframe\">\n",
       "  <thead>\n",
       "    <tr style=\"text-align: right;\">\n",
       "      <th></th>\n",
       "      <th>age</th>\n",
       "      <th>gender</th>\n",
       "      <th>sexuality</th>\n",
       "      <th>neurodivergent_conditions</th>\n",
       "      <th>hobbies</th>\n",
       "      <th>stimming_essentiality_score</th>\n",
       "      <th>user_id</th>\n",
       "    </tr>\n",
       "  </thead>\n",
       "  <tbody>\n",
       "    <tr>\n",
       "      <th>0</th>\n",
       "      <td>20</td>\n",
       "      <td>Non-binary</td>\n",
       "      <td>Lesbian</td>\n",
       "      <td>[Autism, PTSD]</td>\n",
       "      <td>(Sketching, Singing, Biking)</td>\n",
       "      <td>3</td>\n",
       "      <td>1</td>\n",
       "    </tr>\n",
       "    <tr>\n",
       "      <th>1</th>\n",
       "      <td>19</td>\n",
       "      <td>Female</td>\n",
       "      <td>Straight</td>\n",
       "      <td>[ADHD, Generalized Anxiety Disorder, Panic Dis...</td>\n",
       "      <td>(Writing, Poetry, Painting, Birding, Designing)</td>\n",
       "      <td>3</td>\n",
       "      <td>2</td>\n",
       "    </tr>\n",
       "    <tr>\n",
       "      <th>2</th>\n",
       "      <td>19</td>\n",
       "      <td>Prefer not to say</td>\n",
       "      <td>Queer</td>\n",
       "      <td>[ADHD, Generalized Anxiety Disorder, Social An...</td>\n",
       "      <td>(Reading, Painting, Video games)</td>\n",
       "      <td>4</td>\n",
       "      <td>3</td>\n",
       "    </tr>\n",
       "    <tr>\n",
       "      <th>3</th>\n",
       "      <td>20</td>\n",
       "      <td>Female</td>\n",
       "      <td>Bisexual</td>\n",
       "      <td>[Social Anxiety Disorder, Depression, Epilepsy]</td>\n",
       "      <td>(Drawing, Music)</td>\n",
       "      <td>5</td>\n",
       "      <td>4</td>\n",
       "    </tr>\n",
       "    <tr>\n",
       "      <th>4</th>\n",
       "      <td>21</td>\n",
       "      <td>Prefer not to say</td>\n",
       "      <td>Asexual</td>\n",
       "      <td>[Autism, ADHD, Depression, Borderline Personal...</td>\n",
       "      <td>(Reading, Sketching, Binge reading)</td>\n",
       "      <td>4</td>\n",
       "      <td>5</td>\n",
       "    </tr>\n",
       "    <tr>\n",
       "      <th>...</th>\n",
       "      <td>...</td>\n",
       "      <td>...</td>\n",
       "      <td>...</td>\n",
       "      <td>...</td>\n",
       "      <td>...</td>\n",
       "      <td>...</td>\n",
       "      <td>...</td>\n",
       "    </tr>\n",
       "    <tr>\n",
       "      <th>177</th>\n",
       "      <td>19</td>\n",
       "      <td>Prefer not to say</td>\n",
       "      <td>Pansexual</td>\n",
       "      <td>[ADHD, Eating Disorder]</td>\n",
       "      <td>(Dancing, Baking, Vlogging)</td>\n",
       "      <td>2</td>\n",
       "      <td>178</td>\n",
       "    </tr>\n",
       "    <tr>\n",
       "      <th>178</th>\n",
       "      <td>23</td>\n",
       "      <td>Female</td>\n",
       "      <td>Straight</td>\n",
       "      <td>[OCD, PTSD, Depression]</td>\n",
       "      <td>(Yoga, Meditation, Programming)</td>\n",
       "      <td>5</td>\n",
       "      <td>179</td>\n",
       "    </tr>\n",
       "    <tr>\n",
       "      <th>179</th>\n",
       "      <td>20</td>\n",
       "      <td>Non-binary</td>\n",
       "      <td>Demisexual</td>\n",
       "      <td>[Generalized Anxiety Disorder, PTSD]</td>\n",
       "      <td>(Knitting, Watching movies, Video games)</td>\n",
       "      <td>3</td>\n",
       "      <td>180</td>\n",
       "    </tr>\n",
       "    <tr>\n",
       "      <th>180</th>\n",
       "      <td>22</td>\n",
       "      <td>Male</td>\n",
       "      <td>Bisexual</td>\n",
       "      <td>[Autism, ADHD, Anxiety]</td>\n",
       "      <td>(Music, Running, Photography)</td>\n",
       "      <td>4</td>\n",
       "      <td>181</td>\n",
       "    </tr>\n",
       "    <tr>\n",
       "      <th>181</th>\n",
       "      <td>25</td>\n",
       "      <td>Female</td>\n",
       "      <td>Lesbian</td>\n",
       "      <td>[Bipolar Disorder, OCD, Anxiety]</td>\n",
       "      <td>(Writing, Traveling, Playing piano)</td>\n",
       "      <td>3</td>\n",
       "      <td>182</td>\n",
       "    </tr>\n",
       "  </tbody>\n",
       "</table>\n",
       "<p>182 rows × 7 columns</p>\n",
       "</div>"
      ],
      "text/plain": [
       "     age             gender   sexuality  \\\n",
       "0     20         Non-binary     Lesbian   \n",
       "1     19             Female    Straight   \n",
       "2     19  Prefer not to say       Queer   \n",
       "3     20             Female    Bisexual   \n",
       "4     21  Prefer not to say     Asexual   \n",
       "..   ...                ...         ...   \n",
       "177   19  Prefer not to say   Pansexual   \n",
       "178   23             Female    Straight   \n",
       "179   20         Non-binary  Demisexual   \n",
       "180   22               Male    Bisexual   \n",
       "181   25             Female     Lesbian   \n",
       "\n",
       "                             neurodivergent_conditions  \\\n",
       "0                                       [Autism, PTSD]   \n",
       "1    [ADHD, Generalized Anxiety Disorder, Panic Dis...   \n",
       "2    [ADHD, Generalized Anxiety Disorder, Social An...   \n",
       "3      [Social Anxiety Disorder, Depression, Epilepsy]   \n",
       "4    [Autism, ADHD, Depression, Borderline Personal...   \n",
       "..                                                 ...   \n",
       "177                            [ADHD, Eating Disorder]   \n",
       "178                            [OCD, PTSD, Depression]   \n",
       "179               [Generalized Anxiety Disorder, PTSD]   \n",
       "180                            [Autism, ADHD, Anxiety]   \n",
       "181                   [Bipolar Disorder, OCD, Anxiety]   \n",
       "\n",
       "                                             hobbies  \\\n",
       "0                       (Sketching, Singing, Biking)   \n",
       "1    (Writing, Poetry, Painting, Birding, Designing)   \n",
       "2                   (Reading, Painting, Video games)   \n",
       "3                                   (Drawing, Music)   \n",
       "4                (Reading, Sketching, Binge reading)   \n",
       "..                                               ...   \n",
       "177                      (Dancing, Baking, Vlogging)   \n",
       "178                  (Yoga, Meditation, Programming)   \n",
       "179         (Knitting, Watching movies, Video games)   \n",
       "180                    (Music, Running, Photography)   \n",
       "181              (Writing, Traveling, Playing piano)   \n",
       "\n",
       "     stimming_essentiality_score  user_id  \n",
       "0                              3        1  \n",
       "1                              3        2  \n",
       "2                              4        3  \n",
       "3                              5        4  \n",
       "4                              4        5  \n",
       "..                           ...      ...  \n",
       "177                            2      178  \n",
       "178                            5      179  \n",
       "179                            3      180  \n",
       "180                            4      181  \n",
       "181                            3      182  \n",
       "\n",
       "[182 rows x 7 columns]"
      ]
     },
     "execution_count": 7,
     "metadata": {},
     "output_type": "execute_result"
    }
   ],
   "source": [
    "users_df"
   ]
  },
  {
   "cell_type": "code",
   "execution_count": 8,
   "metadata": {
    "id": "lTruM3mv1rLb"
   },
   "outputs": [],
   "source": [
    "def score_calculator(interaction):\n",
    "  harm_score=(stims_df[stims_df['stim_id']== interaction[0]])['harmfulness_score']\n",
    "  return int(2 * interaction[1] + 2 * interaction[2] + 4 * interaction[3] - interaction[4] - 2.5 * (harm_score))"
   ]
  },
  {
   "cell_type": "code",
   "execution_count": 10,
   "metadata": {
    "id": "Eir_-nbMQIEM"
   },
   "outputs": [],
   "source": [
    "import tensorflow_hub as hub\n",
    "embed = hub.load(\"https://tfhub.dev/google/universal-sentence-encoder/4\")"
   ]
  },
  {
   "cell_type": "code",
   "execution_count": 11,
   "metadata": {
    "id": "ft-ObBwn019b"
   },
   "outputs": [],
   "source": [
    "def generate_embeddings(column_data):\n",
    "    return embed(tf.convert_to_tensor(column_data, dtype=tf.string)).numpy()\n",
    "\n",
    "def tensorize(column_data):\n",
    "    return tf.constant(column_data, dtype=tf.float32)\n",
    "\n",
    "# Preprocess users_df\n",
    "users_df['hobbies_embedding'] = users_df['hobbies'].apply(lambda x: generate_embeddings([\", \".join(x)]))\n",
    "users_df['conditions_embedding'] = users_df['neurodivergent_conditions'].apply(lambda x: generate_embeddings([\" and \".join(x)]))\n",
    "\n",
    "users_df['hobbies_embedding'] = users_df['hobbies_embedding'].apply(tensorize)\n",
    "users_df['conditions_embedding'] = users_df['conditions_embedding'].apply(tensorize)\n",
    "\n",
    "# Preprocess stims_df\n",
    "stims_df['name_embedding'] = stims_df['name'].apply(lambda x: generate_embeddings([x]))\n",
    "stims_df['description_embedding'] = stims_df['description'].apply(lambda x: generate_embeddings([x]))\n",
    "\n",
    "stims_df['name_embedding'] = stims_df['name_embedding'].apply(tensorize)\n",
    "stims_df['description_embedding'] = stims_df['description_embedding'].apply(tensorize)\n"
   ]
  },
  {
   "cell_type": "code",
   "execution_count": 12,
   "metadata": {
    "id": "IKqlrK312oxK"
   },
   "outputs": [],
   "source": [
    "# Merge the interaction and stim DataFrames to get the stim names and ratings\n",
    "interactions_with_stims = pd.merge(interactions_df, stims_df, on='stim_id')\n",
    "# Modify the user_stims DataFrame creation to include only description_embeddings of stims with scores greater than 20\n",
    "user_stims = interactions_with_stims.groupby('user_id').apply(lambda x: x[['stim_id', 'usefulness_score', 'frequency_score', 'sensory_regulation_score', 'discomfort_score']].apply(lambda y: stims_df[stims_df['stim_id'] == y['stim_id']]['description_embedding'].values[0][0] if score_calculator([y['stim_id'], y['usefulness_score'], y['frequency_score'], y['sensory_regulation_score'], y['discomfort_score']]) > 20 else None, axis=1).dropna().tolist()).reset_index(name='current_stims')\n",
    "# Merge the user_stims DataFrame with the users_df DataFrame to add the current_stims feature\n",
    "users_df = pd.merge(users_df, user_stims, on='user_id', how='left')\n",
    "# Convert the 'current_stims' column to a tensor with shape (N, 512)\n",
    "users_df['current_stims'] = users_df['current_stims'].apply(lambda x: tf.stack(x) if len(x) > 0 else None)\n",
    "users_df['current_stims'] = users_df['current_stims'].apply(lambda x: x[:4] if ((x is not None) and (len(x)>4) ) else x)\n"
   ]
  },
  {
   "cell_type": "code",
   "execution_count": 13,
   "metadata": {},
   "outputs": [
    {
     "data": {
      "text/plain": [
       "2"
      ]
     },
     "execution_count": 13,
     "metadata": {},
     "output_type": "execute_result"
    }
   ],
   "source": [
    "len(users_df['current_stims'][11])"
   ]
  },
  {
   "cell_type": "code",
   "execution_count": 14,
   "metadata": {
    "id": "nTVF-vmzeWGd"
   },
   "outputs": [],
   "source": [
    "# Create a dictionary to keep track of the associated conditions and hobbies for each stim\n",
    "associated_conditions_hobbies = {stim_id: {'combined': []} for stim_id in stims_df['stim_id'].values}\n",
    "\n",
    "# Iterate over each user's interactions\n",
    "for user_id, interactions in updated_data.items():\n",
    "    user_data = users_df.loc[users_df['user_id'] == user_id]\n",
    "    conditions = \", \".join(user_data['neurodivergent_conditions'].values[0])\n",
    "    hobbies = \" and \".join(user_data['hobbies'].values[0])\n",
    "    conditions_embedding = generate_embeddings([conditions])[0]\n",
    "    hobbies_embedding = generate_embeddings([hobbies])[0]\n",
    "    \n",
    "    for stim_id, usefulness_score, frequency_score, sensory_regulation_score, discomfort_score in interactions:\n",
    "        # Get the associated_conditions_hobbies dictionary for this stim\n",
    "        stim_dict = associated_conditions_hobbies[stim_id]\n",
    "        # Combine the conditions and hobbies for the current user and add them to the stim_dict\n",
    "        stim_dict['combined'].append(tf.constant(conditions_embedding, dtype=tf.float32))\n",
    "        stim_dict['combined'].append(tf.constant(hobbies_embedding, dtype=tf.float32))\n",
    "\n",
    "# Now that we have the associated conditions and hobbies for each stim, add them to the stims_df\n",
    "stims_df['associated_conditions_hobbies'] = stims_df['stim_id'].apply(lambda x: tf.stack(associated_conditions_hobbies[x]['combined']))\n"
   ]
  },
  {
   "cell_type": "code",
   "execution_count": 15,
   "metadata": {},
   "outputs": [],
   "source": [
    "tf.keras.backend.set_floatx('float32')"
   ]
  },
  {
   "cell_type": "code",
   "execution_count": 16,
   "metadata": {},
   "outputs": [],
   "source": [
    "from tensorflow.keras.callbacks import TensorBoard\n",
    "\n",
    "log_dir = \"logs\"\n",
    "tensorboard_callback = TensorBoard(log_dir=log_dir, update_freq='batch')\n"
   ]
  },
  {
   "cell_type": "code",
   "execution_count": 17,
   "metadata": {
    "id": "8SVCE3Z7ZVqu"
   },
   "outputs": [],
   "source": [
    "from tensorflow.keras import Sequential, regularizers\n",
    "from tensorflow.keras.layers import Embedding, Dense, GlobalAveragePooling1D, Flatten, Reshape, Concatenate,BatchNormalization\n",
    "from tensorflow.keras.layers.experimental.preprocessing import StringLookup, Normalization, TextVectorization\n",
    "tf.random.set_seed(42)\n",
    "np.random.seed(42)\n",
    "from tensorflow.keras.constraints import Constraint\n",
    "\n",
    "class WeightClip(Constraint):\n",
    "    def __init__(self, clip_value):\n",
    "        self.clip_value = clip_value\n",
    "\n",
    "    def __call__(self, w):\n",
    "        return tf.clip_by_value(w, -self.clip_value, self.clip_value)\n",
    "\n",
    "    def get_config(self):\n",
    "        return {'clip_value': self.clip_value}\n",
    "\n",
    "# Preprocessing layers\n",
    "gender_lookup = StringLookup()\n",
    "gender_lookup.adapt(users_df['gender'])\n",
    "\n",
    "sexuality_lookup = StringLookup()\n",
    "sexuality_lookup.adapt(users_df['sexuality'])\n",
    "'''\n",
    "nd_condition_lookup = StringLookup()\n",
    "nd_condition_lookup.adapt(np.unique(np.concatenate(users_df['neurodivergent_conditions'].values)))'''\n",
    "\n",
    "age_normalizer = Normalization()\n",
    "age_normalizer.adapt(users_df['age'])\n",
    "\n",
    "score_normalizer = Normalization()\n",
    "score_normalizer.adapt(users_df['stimming_essentiality_score'])\n",
    "\n",
    "# TextVectorization layer for stim names\n",
    "max_tokens = 2000  # Maximum number of unique tokens, adjust this value according to your dataset\n",
    "output_sequence_length = 16 # Adjust this value based on the expected number of tokens per stim_name\n",
    "embedding_dim = 32  # Dimension of the dense vectors\n",
    "\n",
    "# Create a Normalization layer for harmfulness_score\n",
    "harmfulness_score_normalizer = Normalization()\n",
    "harmfulness_score_normalizer.adapt(stims_df['harmfulness_score'])\n",
    "\n",
    "\n",
    "regul=5e-5   #regularization\n",
    "def create_user_input_layers():\n",
    "    age_input = tf.keras.Input(shape=(1,), name=\"age\", dtype=tf.int32)\n",
    "    gender_input = tf.keras.Input(shape=(1,), name=\"gender\", dtype=tf.string)\n",
    "    sexuality_input = tf.keras.Input(shape=(1,), name=\"sexuality\", dtype=tf.string)\n",
    "    neurodivergent_conditions_input = tf.keras.Input(shape=(1,512) , name=\"nd_conditions_embedding\", dtype=tf.float32)\n",
    "    hobbies_embedding_input = tf.keras.Input(shape=(1,512) , name=\"hobbies_embedding\", dtype=tf.float32)\n",
    "    stimming_essentiality_score_input = tf.keras.Input(shape=(1,), name=\"stimming_essentiality_score\", dtype=tf.int32)\n",
    "    current_stims_input = tf.keras.Input(shape=(None, 512), name=\"current_stims\", dtype=tf.float32)\n",
    "    return {\n",
    "        \"age\": age_input,\n",
    "        \"gender\": gender_input,\n",
    "        \"sexuality\": sexuality_input,\n",
    "        \"nd_conditions_embedding\": neurodivergent_conditions_input,\n",
    "        \"hobbies_embedding\": hobbies_embedding_input,\n",
    "        \"stimming_essentiality_score\": stimming_essentiality_score_input,\n",
    "        \"current_stims\": current_stims_input,\n",
    "    }\n",
    "def create_stim_input_layers():\n",
    "    name_input = tf.keras.Input(shape=(1,512), name=\"name_embedding\", dtype=tf.float32)\n",
    "    description_input = tf.keras.Input(shape=(1,512), name=\"description_embedding\", dtype=tf.float32)\n",
    "    harmfulness_score_input = tf.keras.Input(shape=(1,), name=\"harmfulness_score\", dtype=tf.int32)\n",
    "    associated_conditions_hobbies_input= tf.keras.Input(shape=(2, 512), dtype=tf.float32, name=\"associated_conditions_hobbies\")\n",
    "    return {\"name_embedding\": name_input, \"description_embedding\": description_input, \"harmfulness_score\": harmfulness_score_input, \n",
    "            'associated_conditions_hobbies':associated_conditions_hobbies_input}\n",
    "\n",
    "def create_user_model(user_input_layers):\n",
    "    clip_value = 0.2\n",
    "    clip_constraint = WeightClip(clip_value)\n",
    "    # Preprocessing layers\n",
    "    age_normalized = tf.expand_dims(age_normalizer(user_input_layers[\"age\"]), -1)\n",
    "    gender_embedded = gender_lookup(user_input_layers[\"gender\"])\n",
    "    sexuality_embedded = sexuality_lookup(user_input_layers[\"sexuality\"])\n",
    "    neurodivergent_conditions_embedded = user_input_layers[\"nd_conditions_embedding\"]\n",
    "    hobbies_embedded = user_input_layers[\"hobbies_embedding\"]\n",
    "    stimming_essentiality_score_normalized = tf.expand_dims(score_normalizer(user_input_layers[\"stimming_essentiality_score\"]),-1)\n",
    "    current_stims_embeddings = user_input_layers[\"current_stims\"]\n",
    "\n",
    "    # Embedding layers\n",
    "    embedding_dim = 8\n",
    "    gender_embedding = Embedding(input_dim=len(gender_lookup.get_vocabulary()), output_dim=embedding_dim)(gender_embedded)\n",
    "    sexuality_embedding = Embedding(input_dim=len(sexuality_lookup.get_vocabulary()), output_dim=embedding_dim)(sexuality_embedded)\n",
    "    #neurodivergent_conditions_dense = Embedding(input_dim=len(nd_condition_lookup.get_vocabulary()), output_dim=embedding_dim)(neurodivergent_conditions_embedded)\n",
    "    \n",
    "    \n",
    "    # Dense layers\n",
    "    age_dense = Dense(32, kernel_initializer='random_normal',activation='swish', kernel_constraint=clip_constraint,kernel_regularizer=tf.keras.regularizers.l1(regul))(tf.reshape(age_normalized, (-1, 1)))\n",
    "    stimming_essentiality_dense = Dense(128, kernel_initializer='random_normal',kernel_regularizer=tf.keras.regularizers.l1(regul),activation='swish', kernel_constraint=clip_constraint)(tf.reshape(stimming_essentiality_score_normalized, (-1, 1)))\n",
    "\n",
    "    gender_dense = Dense(32, kernel_initializer='random_normal',activation=tf.keras.activations.selu,kernel_regularizer=tf.keras.regularizers.l1(regul), kernel_constraint=clip_constraint)(Flatten()(gender_embedding))\n",
    "    gender_dense = tf.debugging.check_numerics(gender_dense, message=\"NaN or Inf found in gender_dense\")\n",
    "    \n",
    "    sexuality_dense = Dense(128, kernel_initializer='random_normal',activation='swish',kernel_regularizer=tf.keras.regularizers.l1(regul), kernel_constraint=clip_constraint)(Flatten()(sexuality_embedded))\n",
    "    sexuality_dense = tf.debugging.check_numerics(sexuality_dense, message=\"NaN or Inf found in sexuality_dense\")\n",
    "    \n",
    "    #neurodivergent_conditions_pooled = GlobalAveragePooling1D()(neurodivergent_conditions_dense)\n",
    "    nd_conditions_normalizer=BatchNormalization()\n",
    "    nd_condition_dense = nd_conditions_normalizer(Dense(2048, kernel_initializer='random_normal',kernel_regularizer=tf.keras.regularizers.l1(regul),activation='swish', kernel_constraint=clip_constraint)(Flatten()(neurodivergent_conditions_embedded)))\n",
    "    nd_condition_dense = tf.debugging.check_numerics(nd_condition_dense, message=\"NaN or Inf found in nd_condition_dense\")\n",
    "    \n",
    "    hobbies_normalizer=BatchNormalization()\n",
    "    hobbies_dense = hobbies_normalizer(Dense(2048, kernel_initializer='random_normal',kernel_regularizer=tf.keras.regularizers.l1(regul),activation='swish', kernel_constraint=clip_constraint)(Flatten()(hobbies_embedded)))\n",
    "    hobbies_dense = tf.debugging.check_numerics(hobbies_dense, message=\"NaN or Inf found in hobbies_dense\")\n",
    "    \n",
    "    avg_pooled_stims = tf.reduce_mean(current_stims_embeddings, axis=1)\n",
    "    stim_normalizer=BatchNormalization()\n",
    "    current_stims_embeddings_dense = stim_normalizer(Dense(1024, kernel_initializer='random_normal',kernel_regularizer=tf.keras.regularizers.l1(regul),activation='swish', kernel_constraint=clip_constraint)(avg_pooled_stims))\n",
    "    current_stims_embeddings_dense = tf.debugging.check_numerics(current_stims_embeddings_dense, message=\"NaN or Inf found in current_stims_embeddings_dense\")\n",
    "\n",
    "    flattened_stims_dense=Flatten()(current_stims_embeddings_dense)\n",
    "\n",
    "    # Concatenate dense layers\n",
    "    concatenated = Concatenate(axis=-1)([\n",
    "        age_dense,\n",
    "        gender_dense,\n",
    "        sexuality_dense,\n",
    "        nd_condition_dense,\n",
    "        hobbies_dense,\n",
    "        stimming_essentiality_dense,\n",
    "        current_stims_embeddings_dense\n",
    "    ])\n",
    "\n",
    "    flat_embeddings = Flatten()(concatenated)\n",
    "    # User Dense layers\n",
    "    layer1_norm=BatchNormalization()\n",
    "    dense_1 = layer1_norm(Dense(8192, kernel_initializer='random_normal',activation='swish', kernel_constraint=clip_constraint,kernel_regularizer=tf.keras.regularizers.l1(regul))(flat_embeddings))\n",
    "    layer2_norm=BatchNormalization()\n",
    "    dense_2 = layer2_norm(Dense(4096, kernel_initializer='random_normal',activation='swish', kernel_constraint=clip_constraint,kernel_regularizer=tf.keras.regularizers.l1(regul))(dense_1))\n",
    "    layer3_norm=BatchNormalization()\n",
    "    dense_3 = layer3_norm(Dense(2048, kernel_initializer='random_normal',activation='swish',kernel_regularizer=tf.keras.regularizers.l1(regul), kernel_constraint=clip_constraint)(dense_2))\n",
    "    layer4_norm=BatchNormalization()\n",
    "    dense_4 = layer4_norm(Dense(1024, kernel_initializer='random_normal',activation='swish',kernel_regularizer=tf.keras.regularizers.l1(regul), kernel_constraint=clip_constraint)(dense_3))\n",
    "    model = tf.keras.Model(inputs=user_input_layers, outputs=dense_4, name=\"user_model\")\n",
    "    return model\n",
    "\n",
    "def create_stim_model(stim_input_layers):\n",
    "    clip_value = 0.2\n",
    "    clip_constraint = WeightClip(clip_value)\n",
    "    embedded_name = stim_input_layers[\"name_embedding\"]\n",
    "    description_embedded = stim_input_layers[\"description_embedding\"]\n",
    "\n",
    "    harmfulness_score_normalized = tf.expand_dims(harmfulness_score_normalizer(stim_input_layers[\"harmfulness_score\"]), -1)\n",
    "    associated_conditions_hobbies_embedded= stim_input_layers[\"associated_conditions_hobbies\"]\n",
    "\n",
    "    name_dense=Dense(1024, kernel_initializer='random_normal',activation='swish', kernel_regularizer=tf.keras.regularizers.l1(regul), kernel_constraint=clip_constraint)(Flatten()(embedded_name))\n",
    "    description_dense=Dense(1024, kernel_initializer='random_normal',activation='swish', kernel_regularizer=tf.keras.regularizers.l1(regul), kernel_constraint=clip_constraint)(Flatten()(description_embedded))\n",
    "    harmfulness_score_dense=Dense(16, kernel_initializer='random_normal',activation=tf.keras.activations.selu, kernel_regularizer=tf.keras.regularizers.l1(regul), kernel_constraint=clip_constraint)(tf.reshape(harmfulness_score_normalized,(-1,1)))\n",
    "    avg_pooled_hobbies = tf.reduce_mean(associated_conditions_hobbies_embedded, axis=1)\n",
    "    hobby_norm=BatchNormalization()\n",
    "    associated_conditions_hobbies_embedded_dense = hobby_norm(Dense(2048, kernel_initializer='random_normal', kernel_regularizer=tf.keras.regularizers.l1(regul),activation='swish', kernel_constraint=clip_constraint)(avg_pooled_hobbies))\n",
    "    flattened_hobbies_dense = Flatten()(associated_conditions_hobbies_embedded_dense)\n",
    "\n",
    "    concatenated = Concatenate(axis=-1)([\n",
    "        name_dense,\n",
    "        description_dense,\n",
    "        harmfulness_score_dense,\n",
    "        flattened_hobbies_dense\n",
    "    ])\n",
    "    flat_embeddings = Flatten()(concatenated)\n",
    "    # Flatten and Dense layers\n",
    "    layer1_norm=BatchNormalization()\n",
    "    dense_1 = layer1_norm(Dense(8192, kernel_initializer='random_normal',activation='swish',kernel_regularizer=tf.keras.regularizers.l1(regul), kernel_constraint=clip_constraint)(flat_embeddings))\n",
    "    layer2_norm=BatchNormalization()\n",
    "    dense_2 = layer2_norm(Dense(4096, kernel_initializer='random_normal', activation='selu',kernel_regularizer=tf.keras.regularizers.l1(regul), kernel_constraint=clip_constraint)(dense_1))\n",
    "    layer3_norm=BatchNormalization()\n",
    "    dense_3 = layer3_norm(Dense(2048, kernel_initializer='random_normal',activation='swish', kernel_regularizer=tf.keras.regularizers.l1(regul), kernel_constraint=clip_constraint)(dense_2))\n",
    "    layer4_norm=BatchNormalization()\n",
    "    dense_4 = layer4_norm(Dense(1024, kernel_initializer='random_normal', kernel_regularizer=tf.keras.regularizers.l1(regul),activation='selu', kernel_constraint=clip_constraint)(dense_3))\n",
    "    return tf.keras.Model(inputs=stim_input_layers, outputs=dense_4, name=\"stim_model\")\n",
    "\n",
    "user_input_layers = create_user_input_layers()\n",
    "stim_input_layers = create_stim_input_layers()\n",
    "user_model = create_user_model( user_input_layers)\n",
    "stim_model = create_stim_model( stim_input_layers)"
   ]
  },
  {
   "cell_type": "code",
   "execution_count": 18,
   "metadata": {
    "id": "Trhi-Gzj24cg"
   },
   "outputs": [],
   "source": [
    "relug=5e-5\n",
    "class ScoreEstimator(tf.keras.Model):\n",
    "    def __init__(self, user_model, stim_model):\n",
    "        super().__init__()\n",
    "        self.user_model = user_model\n",
    "        self.stim_model = stim_model\n",
    "        self.concat_layer = Concatenate(axis=-1)\n",
    "        clip_value = 0.5\n",
    "        clip_constraint = WeightClip(clip_value)\n",
    "\n",
    "        self.dense_1a = Dense(4096, activation='swish', kernel_initializer='he_normal', kernel_regularizer=regularizers.l1(relug), kernel_constraint=clip_constraint)\n",
    "        self.dense_1b = Dense(2048, activation='swish', kernel_initializer='he_normal', kernel_regularizer=regularizers.l1(relug), kernel_constraint=clip_constraint)\n",
    "        self.dense_2a = Dense(512, activation='swish', kernel_initializer='he_normal', kernel_regularizer=regularizers.l1(relug), kernel_constraint=clip_constraint)\n",
    "        self.dense_2b = Dense(256, activation='swish', kernel_initializer='he_normal', kernel_regularizer=regularizers.l1(relug), kernel_constraint=clip_constraint)\n",
    "        self.dense_3a = Dense(128, activation='swish', kernel_initializer='he_normal', kernel_regularizer=regularizers.l1(relug), kernel_constraint=clip_constraint)\n",
    "        self.dense_3b = Dense(64, activation='swish', kernel_initializer='he_normal', kernel_regularizer=regularizers.l1(relug), kernel_constraint=clip_constraint)\n",
    "        self.dense_4a = Dense(32, activation='swish', kernel_initializer='he_normal', kernel_regularizer=regularizers.l1(relug), kernel_constraint=clip_constraint)\n",
    "        self.dense_4b = Dense(16, activation='swish', kernel_initializer='he_normal', kernel_regularizer=regularizers.l1(relug), kernel_constraint=clip_constraint)\n",
    "        self.dense_5a = Dense(8, activation='swish', kernel_initializer='he_normal', kernel_regularizer=regularizers.l1(relug), kernel_constraint=clip_constraint)\n",
    "        self.dense_5b = Dense(4, activation='swish', kernel_initializer='he_normal', kernel_regularizer=regularizers.l1(relug), kernel_constraint=clip_constraint)\n",
    "        self.output_layer = Dense(1, activation='swish', kernel_regularizer=tf.keras.regularizers.l1(regul), kernel_constraint=clip_constraint)\n",
    "\n",
    "        self.batch_norm1 = BatchNormalization()\n",
    "        self.batch_norm2 = BatchNormalization()\n",
    "        self.batch_norm3 = BatchNormalization()\n",
    "        self.batch_norm4 = BatchNormalization()\n",
    "        self.batch_norm5 = BatchNormalization()\n",
    "        \n",
    "        self.loss_fn = tf.keras.losses.MeanSquaredError()\n",
    "\n",
    "    def call(self, inputs, training=False):\n",
    "        user_inputs, stim_inputs = inputs\n",
    "        user_output = self.user_model(user_inputs)\n",
    "        stim_output = self.stim_model(stim_inputs)\n",
    "        concatenated = self.concat_layer([user_output, stim_output])\n",
    "        dense_1a_output = self.batch_norm1(self.dense_1a(concatenated))\n",
    "        dense_1b_output = self.dense_1b(dense_1a_output)\n",
    "        dense_2a_output = self.batch_norm2(self.dense_2a(dense_1b_output))\n",
    "        dense_2b_output = self.dense_2b(dense_2a_output)\n",
    "        dense_3a_output = self.batch_norm3(self.dense_3a(dense_2b_output))\n",
    "        dense_3b_output = self.dense_3b(dense_3a_output)\n",
    "        dense_4a_output = self.batch_norm4(self.dense_4a(dense_3b_output))\n",
    "        dense_4b_output = self.dense_4b(dense_4a_output)\n",
    "        dense_5a_output = self.batch_norm5(self.dense_5a(dense_4b_output))\n",
    "        dense_5b_output = self.dense_5b(dense_5a_output)\n",
    "        output = self.output_layer(dense_5b_output)\n",
    "        return output\n",
    "    '''\n",
    "    def compute_loss(self, inputs, scores, training=False):\n",
    "        user_inputs, stim_inputs = inputs\n",
    "        predictions = self.call((user_inputs, stim_inputs), training=training)\n",
    "        loss = self.loss_fn(scores, predictions)\n",
    "        return loss\n",
    "\n",
    "    def train_step(self, data):\n",
    "        inputs, scores = data\n",
    "        with tf.GradientTape() as tape:\n",
    "            loss = self.compute_loss(inputs, scores, training=True)\n",
    "        gradients = tape.gradient(loss, self.trainable_variables)\n",
    "        self.optimizer.apply_gradients(zip(gradients, self.trainable_variables))\n",
    "        return {\"loss\": loss}\n",
    "\n",
    "    def test_step(self, data):\n",
    "        inputs, scores = data\n",
    "        loss = self.compute_loss(inputs, scores, training=False)\n",
    "        return {\"loss\": loss}\n",
    "    def fit(self, inputs, scores, epochs=1, batch_size=256, validation_split=0.0):\n",
    "        dataset = tf.data.Dataset.from_tensor_slices((inputs, scores)).batch(batch_size).shuffle(buffer_size=1000)\n",
    "        if validation_split > 0.0:\n",
    "            num_val_samples = int(validation_split * len(scores))\n",
    "            num_train_samples = len(scores) - num_val_samples\n",
    "            train_dataset = dataset.take(num_train_samples)\n",
    "            val_dataset = dataset.skip(num_train_samples)\n",
    "        else:\n",
    "            train_dataset = dataset\n",
    "            val_dataset = None\n",
    "\n",
    "        for epoch in range(epochs):\n",
    "            print(f\"Epoch {epoch+1}/{epochs}\")\n",
    "            step = 0\n",
    "            for step_inputs, step_scores in train_dataset:\n",
    "                step_loss = self.train_step((step_inputs, step_scores))[\"loss\"]\n",
    "                step += 1\n",
    "                print(f\"Step {step}, loss: {step_loss}\")\n",
    "\n",
    "            if val_dataset is not None:\n",
    "                val_losses = []\n",
    "                for val_inputs, val_scores in val_dataset:\n",
    "                    val_loss = self.test_step((val_inputs, val_scores))[\"loss\"]\n",
    "                    val_losses.append(val_loss)\n",
    "                print(f\"Validation loss: {np.mean(val_losses)}\")\n",
    "      '''\n"
   ]
  },
  {
   "cell_type": "code",
   "execution_count": 19,
   "metadata": {
    "id": "Sna72GvpP6uM"
   },
   "outputs": [],
   "source": [
    "class RankingModel(tfrs.models.Model):\n",
    "\n",
    "  def __init__(self):\n",
    "    super().__init__()\n",
    "\n",
    "    self.ranking_model: tf.keras.Model = ScoreEstimator(user_model,stim_model)\n",
    "    self.task: tf.keras.layers.Layer = tfrs.tasks.Ranking(\n",
    "      loss = tf.keras.losses.MeanSquaredError(),\n",
    "      metrics=[tf.keras.metrics.RootMeanSquaredError()]\n",
    "    )\n",
    "\n",
    "  def call(self, inputs):\n",
    "      #tensor_user_inputs, tensor_stim_inputs, scores = inputs[0]\n",
    "      return self.ranking_model((inputs['user_inputs'], inputs['stim_inputs']))\n",
    "\n",
    "  def compute_loss(self, inputs, training=False) -> tf.Tensor:\n",
    "      rating_predictions = self(inputs)\n",
    "      # The task computes the loss and the metrics.\n",
    "      return self.task(labels=inputs['labels'], predictions=rating_predictions)"
   ]
  },
  {
   "cell_type": "code",
   "execution_count": 20,
   "metadata": {
    "id": "U3k--IMVH78P"
   },
   "outputs": [],
   "source": [
    "model = RankingModel()\n",
    "model.compile(optimizer=tf.keras.optimizers.Adagrad(learning_rate=3e-4,clipvalue=0.5))\n"
   ]
  },
  {
   "cell_type": "code",
   "execution_count": null,
   "metadata": {},
   "outputs": [],
   "source": []
  },
  {
   "cell_type": "code",
   "execution_count": 21,
   "metadata": {
    "id": "N1sWOj2e3mIO"
   },
   "outputs": [
    {
     "name": "stdout",
     "output_type": "stream",
     "text": [
      "Epoch 1/5\n"
     ]
    },
    {
     "ename": "KeyboardInterrupt",
     "evalue": "",
     "output_type": "error",
     "traceback": [
      "\u001b[1;31m---------------------------------------------------------------------------\u001b[0m",
      "\u001b[1;31mKeyboardInterrupt\u001b[0m                         Traceback (most recent call last)",
      "Input \u001b[1;32mIn [21]\u001b[0m, in \u001b[0;36m<cell line: 96>\u001b[1;34m()\u001b[0m\n\u001b[0;32m     94\u001b[0m \u001b[38;5;66;03m# Train the model\u001b[39;00m\n\u001b[0;32m     95\u001b[0m epochs \u001b[38;5;241m=\u001b[39m \u001b[38;5;241m5\u001b[39m\n\u001b[1;32m---> 96\u001b[0m \u001b[43mmodel\u001b[49m\u001b[38;5;241;43m.\u001b[39;49m\u001b[43mfit\u001b[49m\u001b[43m(\u001b[49m\u001b[43m{\u001b[49m\u001b[43m \u001b[49m\u001b[38;5;124;43m'\u001b[39;49m\u001b[38;5;124;43muser_inputs\u001b[39;49m\u001b[38;5;124;43m'\u001b[39;49m\u001b[43m \u001b[49m\u001b[43m:\u001b[49m\u001b[43m \u001b[49m\u001b[43mtensor_user_inputs_train\u001b[49m\u001b[43m,\u001b[49m\u001b[43m \u001b[49m\u001b[38;5;124;43m'\u001b[39;49m\u001b[38;5;124;43mstim_inputs\u001b[39;49m\u001b[38;5;124;43m'\u001b[39;49m\u001b[43m:\u001b[49m\u001b[43m \u001b[49m\u001b[43mtensor_stim_inputs_train\u001b[49m\u001b[43m,\u001b[49m\u001b[43m \u001b[49m\u001b[38;5;124;43m'\u001b[39;49m\u001b[38;5;124;43mlabels\u001b[39;49m\u001b[38;5;124;43m'\u001b[39;49m\u001b[43m:\u001b[49m\u001b[43m \u001b[49m\u001b[43mtensor_scores_train\u001b[49m\u001b[43m}\u001b[49m\u001b[43m,\u001b[49m\u001b[43m \u001b[49m\u001b[43mepochs\u001b[49m\u001b[38;5;241;43m=\u001b[39;49m\u001b[43mepochs\u001b[49m\u001b[43m,\u001b[49m\u001b[43msteps_per_epoch\u001b[49m\u001b[38;5;241;43m=\u001b[39;49m\u001b[38;5;241;43m331\u001b[39;49m\u001b[43m,\u001b[49m\u001b[43m \u001b[49m\u001b[43mcallbacks\u001b[49m\u001b[38;5;241;43m=\u001b[39;49m\u001b[43m[\u001b[49m\u001b[43mtensorboard_callback\u001b[49m\u001b[43m]\u001b[49m\u001b[43m)\u001b[49m\n",
      "File \u001b[1;32m~\\anaconda3\\lib\\site-packages\\keras\\utils\\traceback_utils.py:65\u001b[0m, in \u001b[0;36mfilter_traceback.<locals>.error_handler\u001b[1;34m(*args, **kwargs)\u001b[0m\n\u001b[0;32m     63\u001b[0m filtered_tb \u001b[38;5;241m=\u001b[39m \u001b[38;5;28;01mNone\u001b[39;00m\n\u001b[0;32m     64\u001b[0m \u001b[38;5;28;01mtry\u001b[39;00m:\n\u001b[1;32m---> 65\u001b[0m     \u001b[38;5;28;01mreturn\u001b[39;00m fn(\u001b[38;5;241m*\u001b[39margs, \u001b[38;5;241m*\u001b[39m\u001b[38;5;241m*\u001b[39mkwargs)\n\u001b[0;32m     66\u001b[0m \u001b[38;5;28;01mexcept\u001b[39;00m \u001b[38;5;167;01mException\u001b[39;00m \u001b[38;5;28;01mas\u001b[39;00m e:\n\u001b[0;32m     67\u001b[0m     filtered_tb \u001b[38;5;241m=\u001b[39m _process_traceback_frames(e\u001b[38;5;241m.\u001b[39m__traceback__)\n",
      "File \u001b[1;32m~\\anaconda3\\lib\\site-packages\\keras\\engine\\training.py:1685\u001b[0m, in \u001b[0;36mModel.fit\u001b[1;34m(self, x, y, batch_size, epochs, verbose, callbacks, validation_split, validation_data, shuffle, class_weight, sample_weight, initial_epoch, steps_per_epoch, validation_steps, validation_batch_size, validation_freq, max_queue_size, workers, use_multiprocessing)\u001b[0m\n\u001b[0;32m   1677\u001b[0m \u001b[38;5;28;01mwith\u001b[39;00m tf\u001b[38;5;241m.\u001b[39mprofiler\u001b[38;5;241m.\u001b[39mexperimental\u001b[38;5;241m.\u001b[39mTrace(\n\u001b[0;32m   1678\u001b[0m     \u001b[38;5;124m\"\u001b[39m\u001b[38;5;124mtrain\u001b[39m\u001b[38;5;124m\"\u001b[39m,\n\u001b[0;32m   1679\u001b[0m     epoch_num\u001b[38;5;241m=\u001b[39mepoch,\n\u001b[1;32m   (...)\u001b[0m\n\u001b[0;32m   1682\u001b[0m     _r\u001b[38;5;241m=\u001b[39m\u001b[38;5;241m1\u001b[39m,\n\u001b[0;32m   1683\u001b[0m ):\n\u001b[0;32m   1684\u001b[0m     callbacks\u001b[38;5;241m.\u001b[39mon_train_batch_begin(step)\n\u001b[1;32m-> 1685\u001b[0m     tmp_logs \u001b[38;5;241m=\u001b[39m \u001b[38;5;28;43mself\u001b[39;49m\u001b[38;5;241;43m.\u001b[39;49m\u001b[43mtrain_function\u001b[49m\u001b[43m(\u001b[49m\u001b[43miterator\u001b[49m\u001b[43m)\u001b[49m\n\u001b[0;32m   1686\u001b[0m     \u001b[38;5;28;01mif\u001b[39;00m data_handler\u001b[38;5;241m.\u001b[39mshould_sync:\n\u001b[0;32m   1687\u001b[0m         context\u001b[38;5;241m.\u001b[39masync_wait()\n",
      "File \u001b[1;32m~\\anaconda3\\lib\\site-packages\\tensorflow\\python\\util\\traceback_utils.py:150\u001b[0m, in \u001b[0;36mfilter_traceback.<locals>.error_handler\u001b[1;34m(*args, **kwargs)\u001b[0m\n\u001b[0;32m    148\u001b[0m filtered_tb \u001b[38;5;241m=\u001b[39m \u001b[38;5;28;01mNone\u001b[39;00m\n\u001b[0;32m    149\u001b[0m \u001b[38;5;28;01mtry\u001b[39;00m:\n\u001b[1;32m--> 150\u001b[0m   \u001b[38;5;28;01mreturn\u001b[39;00m fn(\u001b[38;5;241m*\u001b[39margs, \u001b[38;5;241m*\u001b[39m\u001b[38;5;241m*\u001b[39mkwargs)\n\u001b[0;32m    151\u001b[0m \u001b[38;5;28;01mexcept\u001b[39;00m \u001b[38;5;167;01mException\u001b[39;00m \u001b[38;5;28;01mas\u001b[39;00m e:\n\u001b[0;32m    152\u001b[0m   filtered_tb \u001b[38;5;241m=\u001b[39m _process_traceback_frames(e\u001b[38;5;241m.\u001b[39m__traceback__)\n",
      "File \u001b[1;32m~\\anaconda3\\lib\\site-packages\\tensorflow\\python\\eager\\polymorphic_function\\polymorphic_function.py:894\u001b[0m, in \u001b[0;36mFunction.__call__\u001b[1;34m(self, *args, **kwds)\u001b[0m\n\u001b[0;32m    891\u001b[0m compiler \u001b[38;5;241m=\u001b[39m \u001b[38;5;124m\"\u001b[39m\u001b[38;5;124mxla\u001b[39m\u001b[38;5;124m\"\u001b[39m \u001b[38;5;28;01mif\u001b[39;00m \u001b[38;5;28mself\u001b[39m\u001b[38;5;241m.\u001b[39m_jit_compile \u001b[38;5;28;01melse\u001b[39;00m \u001b[38;5;124m\"\u001b[39m\u001b[38;5;124mnonXla\u001b[39m\u001b[38;5;124m\"\u001b[39m\n\u001b[0;32m    893\u001b[0m \u001b[38;5;28;01mwith\u001b[39;00m OptionalXlaContext(\u001b[38;5;28mself\u001b[39m\u001b[38;5;241m.\u001b[39m_jit_compile):\n\u001b[1;32m--> 894\u001b[0m   result \u001b[38;5;241m=\u001b[39m \u001b[38;5;28mself\u001b[39m\u001b[38;5;241m.\u001b[39m_call(\u001b[38;5;241m*\u001b[39margs, \u001b[38;5;241m*\u001b[39m\u001b[38;5;241m*\u001b[39mkwds)\n\u001b[0;32m    896\u001b[0m new_tracing_count \u001b[38;5;241m=\u001b[39m \u001b[38;5;28mself\u001b[39m\u001b[38;5;241m.\u001b[39mexperimental_get_tracing_count()\n\u001b[0;32m    897\u001b[0m without_tracing \u001b[38;5;241m=\u001b[39m (tracing_count \u001b[38;5;241m==\u001b[39m new_tracing_count)\n",
      "File \u001b[1;32m~\\anaconda3\\lib\\site-packages\\tensorflow\\python\\eager\\polymorphic_function\\polymorphic_function.py:959\u001b[0m, in \u001b[0;36mFunction._call\u001b[1;34m(self, *args, **kwds)\u001b[0m\n\u001b[0;32m    955\u001b[0m     \u001b[38;5;28;01mpass\u001b[39;00m  \u001b[38;5;66;03m# Fall through to cond-based initialization.\u001b[39;00m\n\u001b[0;32m    956\u001b[0m   \u001b[38;5;28;01melse\u001b[39;00m:\n\u001b[0;32m    957\u001b[0m     \u001b[38;5;66;03m# Lifting succeeded, so variables are initialized and we can run the\u001b[39;00m\n\u001b[0;32m    958\u001b[0m     \u001b[38;5;66;03m# no_variable_creation function.\u001b[39;00m\n\u001b[1;32m--> 959\u001b[0m     \u001b[38;5;28;01mreturn\u001b[39;00m \u001b[38;5;28mself\u001b[39m\u001b[38;5;241m.\u001b[39m_no_variable_creation_fn(\u001b[38;5;241m*\u001b[39margs, \u001b[38;5;241m*\u001b[39m\u001b[38;5;241m*\u001b[39mkwds)\n\u001b[0;32m    960\u001b[0m \u001b[38;5;28;01melse\u001b[39;00m:\n\u001b[0;32m    961\u001b[0m   _, _, filtered_flat_args \u001b[38;5;241m=\u001b[39m (\n\u001b[0;32m    962\u001b[0m       \u001b[38;5;28mself\u001b[39m\u001b[38;5;241m.\u001b[39m_variable_creation_fn\u001b[38;5;241m.\u001b[39m_function_spec  \u001b[38;5;66;03m# pylint: disable=protected-access\u001b[39;00m\n\u001b[0;32m    963\u001b[0m       \u001b[38;5;241m.\u001b[39mcanonicalize_function_inputs(\n\u001b[0;32m    964\u001b[0m           args, kwds))\n",
      "File \u001b[1;32m~\\anaconda3\\lib\\site-packages\\tensorflow\\python\\eager\\polymorphic_function\\tracing_compiler.py:143\u001b[0m, in \u001b[0;36mTracingCompiler.__call__\u001b[1;34m(self, *args, **kwargs)\u001b[0m\n\u001b[0;32m    140\u001b[0m \u001b[38;5;28;01mwith\u001b[39;00m \u001b[38;5;28mself\u001b[39m\u001b[38;5;241m.\u001b[39m_lock:\n\u001b[0;32m    141\u001b[0m   (concrete_function,\n\u001b[0;32m    142\u001b[0m    filtered_flat_args) \u001b[38;5;241m=\u001b[39m \u001b[38;5;28mself\u001b[39m\u001b[38;5;241m.\u001b[39m_maybe_define_function(args, kwargs)\n\u001b[1;32m--> 143\u001b[0m \u001b[38;5;28;01mreturn\u001b[39;00m \u001b[43mconcrete_function\u001b[49m\u001b[38;5;241;43m.\u001b[39;49m\u001b[43m_call_flat\u001b[49m\u001b[43m(\u001b[49m\n\u001b[0;32m    144\u001b[0m \u001b[43m    \u001b[49m\u001b[43mfiltered_flat_args\u001b[49m\u001b[43m,\u001b[49m\u001b[43m \u001b[49m\u001b[43mcaptured_inputs\u001b[49m\u001b[38;5;241;43m=\u001b[39;49m\u001b[43mconcrete_function\u001b[49m\u001b[38;5;241;43m.\u001b[39;49m\u001b[43mcaptured_inputs\u001b[49m\u001b[43m)\u001b[49m\n",
      "File \u001b[1;32m~\\anaconda3\\lib\\site-packages\\tensorflow\\python\\eager\\polymorphic_function\\monomorphic_function.py:1757\u001b[0m, in \u001b[0;36mConcreteFunction._call_flat\u001b[1;34m(self, args, captured_inputs, cancellation_manager)\u001b[0m\n\u001b[0;32m   1753\u001b[0m possible_gradient_type \u001b[38;5;241m=\u001b[39m gradients_util\u001b[38;5;241m.\u001b[39mPossibleTapeGradientTypes(args)\n\u001b[0;32m   1754\u001b[0m \u001b[38;5;28;01mif\u001b[39;00m (possible_gradient_type \u001b[38;5;241m==\u001b[39m gradients_util\u001b[38;5;241m.\u001b[39mPOSSIBLE_GRADIENT_TYPES_NONE\n\u001b[0;32m   1755\u001b[0m     \u001b[38;5;129;01mand\u001b[39;00m executing_eagerly):\n\u001b[0;32m   1756\u001b[0m   \u001b[38;5;66;03m# No tape is watching; skip to running the function.\u001b[39;00m\n\u001b[1;32m-> 1757\u001b[0m   \u001b[38;5;28;01mreturn\u001b[39;00m \u001b[38;5;28mself\u001b[39m\u001b[38;5;241m.\u001b[39m_build_call_outputs(\u001b[38;5;28;43mself\u001b[39;49m\u001b[38;5;241;43m.\u001b[39;49m\u001b[43m_inference_function\u001b[49m\u001b[38;5;241;43m.\u001b[39;49m\u001b[43mcall\u001b[49m\u001b[43m(\u001b[49m\n\u001b[0;32m   1758\u001b[0m \u001b[43m      \u001b[49m\u001b[43mctx\u001b[49m\u001b[43m,\u001b[49m\u001b[43m \u001b[49m\u001b[43margs\u001b[49m\u001b[43m,\u001b[49m\u001b[43m \u001b[49m\u001b[43mcancellation_manager\u001b[49m\u001b[38;5;241;43m=\u001b[39;49m\u001b[43mcancellation_manager\u001b[49m\u001b[43m)\u001b[49m)\n\u001b[0;32m   1759\u001b[0m forward_backward \u001b[38;5;241m=\u001b[39m \u001b[38;5;28mself\u001b[39m\u001b[38;5;241m.\u001b[39m_select_forward_and_backward_functions(\n\u001b[0;32m   1760\u001b[0m     args,\n\u001b[0;32m   1761\u001b[0m     possible_gradient_type,\n\u001b[0;32m   1762\u001b[0m     executing_eagerly)\n\u001b[0;32m   1763\u001b[0m forward_function, args_with_tangents \u001b[38;5;241m=\u001b[39m forward_backward\u001b[38;5;241m.\u001b[39mforward()\n",
      "File \u001b[1;32m~\\anaconda3\\lib\\site-packages\\tensorflow\\python\\eager\\polymorphic_function\\monomorphic_function.py:381\u001b[0m, in \u001b[0;36m_EagerDefinedFunction.call\u001b[1;34m(self, ctx, args, cancellation_manager)\u001b[0m\n\u001b[0;32m    379\u001b[0m \u001b[38;5;28;01mwith\u001b[39;00m _InterpolateFunctionError(\u001b[38;5;28mself\u001b[39m):\n\u001b[0;32m    380\u001b[0m   \u001b[38;5;28;01mif\u001b[39;00m cancellation_manager \u001b[38;5;129;01mis\u001b[39;00m \u001b[38;5;28;01mNone\u001b[39;00m:\n\u001b[1;32m--> 381\u001b[0m     outputs \u001b[38;5;241m=\u001b[39m \u001b[43mexecute\u001b[49m\u001b[38;5;241;43m.\u001b[39;49m\u001b[43mexecute\u001b[49m\u001b[43m(\u001b[49m\n\u001b[0;32m    382\u001b[0m \u001b[43m        \u001b[49m\u001b[38;5;28;43mstr\u001b[39;49m\u001b[43m(\u001b[49m\u001b[38;5;28;43mself\u001b[39;49m\u001b[38;5;241;43m.\u001b[39;49m\u001b[43msignature\u001b[49m\u001b[38;5;241;43m.\u001b[39;49m\u001b[43mname\u001b[49m\u001b[43m)\u001b[49m\u001b[43m,\u001b[49m\n\u001b[0;32m    383\u001b[0m \u001b[43m        \u001b[49m\u001b[43mnum_outputs\u001b[49m\u001b[38;5;241;43m=\u001b[39;49m\u001b[38;5;28;43mself\u001b[39;49m\u001b[38;5;241;43m.\u001b[39;49m\u001b[43m_num_outputs\u001b[49m\u001b[43m,\u001b[49m\n\u001b[0;32m    384\u001b[0m \u001b[43m        \u001b[49m\u001b[43minputs\u001b[49m\u001b[38;5;241;43m=\u001b[39;49m\u001b[43margs\u001b[49m\u001b[43m,\u001b[49m\n\u001b[0;32m    385\u001b[0m \u001b[43m        \u001b[49m\u001b[43mattrs\u001b[49m\u001b[38;5;241;43m=\u001b[39;49m\u001b[43mattrs\u001b[49m\u001b[43m,\u001b[49m\n\u001b[0;32m    386\u001b[0m \u001b[43m        \u001b[49m\u001b[43mctx\u001b[49m\u001b[38;5;241;43m=\u001b[39;49m\u001b[43mctx\u001b[49m\u001b[43m)\u001b[49m\n\u001b[0;32m    387\u001b[0m   \u001b[38;5;28;01melse\u001b[39;00m:\n\u001b[0;32m    388\u001b[0m     outputs \u001b[38;5;241m=\u001b[39m execute\u001b[38;5;241m.\u001b[39mexecute_with_cancellation(\n\u001b[0;32m    389\u001b[0m         \u001b[38;5;28mstr\u001b[39m(\u001b[38;5;28mself\u001b[39m\u001b[38;5;241m.\u001b[39msignature\u001b[38;5;241m.\u001b[39mname),\n\u001b[0;32m    390\u001b[0m         num_outputs\u001b[38;5;241m=\u001b[39m\u001b[38;5;28mself\u001b[39m\u001b[38;5;241m.\u001b[39m_num_outputs,\n\u001b[1;32m   (...)\u001b[0m\n\u001b[0;32m    393\u001b[0m         ctx\u001b[38;5;241m=\u001b[39mctx,\n\u001b[0;32m    394\u001b[0m         cancellation_manager\u001b[38;5;241m=\u001b[39mcancellation_manager)\n",
      "File \u001b[1;32m~\\anaconda3\\lib\\site-packages\\tensorflow\\python\\eager\\execute.py:52\u001b[0m, in \u001b[0;36mquick_execute\u001b[1;34m(op_name, num_outputs, inputs, attrs, ctx, name)\u001b[0m\n\u001b[0;32m     50\u001b[0m \u001b[38;5;28;01mtry\u001b[39;00m:\n\u001b[0;32m     51\u001b[0m   ctx\u001b[38;5;241m.\u001b[39mensure_initialized()\n\u001b[1;32m---> 52\u001b[0m   tensors \u001b[38;5;241m=\u001b[39m \u001b[43mpywrap_tfe\u001b[49m\u001b[38;5;241;43m.\u001b[39;49m\u001b[43mTFE_Py_Execute\u001b[49m\u001b[43m(\u001b[49m\u001b[43mctx\u001b[49m\u001b[38;5;241;43m.\u001b[39;49m\u001b[43m_handle\u001b[49m\u001b[43m,\u001b[49m\u001b[43m \u001b[49m\u001b[43mdevice_name\u001b[49m\u001b[43m,\u001b[49m\u001b[43m \u001b[49m\u001b[43mop_name\u001b[49m\u001b[43m,\u001b[49m\n\u001b[0;32m     53\u001b[0m \u001b[43m                                      \u001b[49m\u001b[43minputs\u001b[49m\u001b[43m,\u001b[49m\u001b[43m \u001b[49m\u001b[43mattrs\u001b[49m\u001b[43m,\u001b[49m\u001b[43m \u001b[49m\u001b[43mnum_outputs\u001b[49m\u001b[43m)\u001b[49m\n\u001b[0;32m     54\u001b[0m \u001b[38;5;28;01mexcept\u001b[39;00m core\u001b[38;5;241m.\u001b[39m_NotOkStatusException \u001b[38;5;28;01mas\u001b[39;00m e:\n\u001b[0;32m     55\u001b[0m   \u001b[38;5;28;01mif\u001b[39;00m name \u001b[38;5;129;01mis\u001b[39;00m \u001b[38;5;129;01mnot\u001b[39;00m \u001b[38;5;28;01mNone\u001b[39;00m:\n",
      "\u001b[1;31mKeyboardInterrupt\u001b[0m: "
     ]
    }
   ],
   "source": [
    "from tensorflow.python.ops.numpy_ops import np_config\n",
    "from sklearn.model_selection import train_test_split\n",
    "\n",
    "np_config.enable_numpy_behavior()\n",
    "\n",
    "\n",
    "# Split interactions_df into train and test sets\n",
    "train_interactions_df, test_interactions_df = train_test_split(interactions_df, test_size=0.2, random_state=42)\n",
    "\n",
    "def pad_or_truncate(arr, target_shape):\n",
    "    if arr.shape[0] < target_shape[0]:\n",
    "        padding = np.zeros((target_shape[0] - arr.shape[0], target_shape[1]))\n",
    "        arr = np.vstack((arr, padding))\n",
    "    elif arr.shape[0] > target_shape[0]:\n",
    "        arr = arr[:target_shape[0], :]\n",
    "    return arr\n",
    "def score_calculate(interaction):\n",
    "  harm_score=(stims_df[stims_df['stim_id']== interaction['stim_id']])['harmfulness_score']\n",
    "  return int(2 * interaction['usefulness_score'] + 2 * interaction['frequency_score'] + 4 * interaction['sensory_regulation_score'] - interaction['discomfort_score'] - 2.5 * (harm_score))\n",
    "\n",
    "def preprocess_data(interactions_df, users_df, stims_df, score_calculator):\n",
    "    user_inputs_list = []\n",
    "    stim_inputs_list = []\n",
    "    scores_list = []\n",
    "\n",
    "    for index, interaction in interactions_df.iterrows():\n",
    "        user_id = interaction['user_id']\n",
    "        stim_id = interaction['stim_id']\n",
    "        user = users_df[users_df['user_id'] == user_id].iloc[0]\n",
    "        stim = stims_df[stims_df['stim_id'] == stim_id].iloc[0]\n",
    "\n",
    "        # Extract user_inputs\n",
    "        user_inputs = {\n",
    "            'age': user['age'],\n",
    "            'gender': user['gender'],\n",
    "            'sexuality': user['sexuality'],\n",
    "            'nd_conditions_embedding': user['conditions_embedding'],\n",
    "            'hobbies_embedding': user['hobbies_embedding'],\n",
    "            'stimming_essentiality_score': user['stimming_essentiality_score'],\n",
    "            'current_stims': user['current_stims']\n",
    "        }\n",
    "\n",
    "        # Extract stim_inputs\n",
    "        stim_inputs = {\n",
    "            'name_embedding': stim['name_embedding'],\n",
    "            'description_embedding': stim['description_embedding'],\n",
    "            'harmfulness_score': stim['harmfulness_score'],\n",
    "            'associated_conditions_hobbies': stim['associated_conditions_hobbies']\n",
    "        }\n",
    "\n",
    "        # Calculate score\n",
    "        score = score_calculate(interaction)\n",
    "        scores_list.append(score)\n",
    "\n",
    "        user_inputs_list.append(user_inputs)\n",
    "        stim_inputs_list.append(stim_inputs)\n",
    "        \n",
    "    # Convert data to tensors (except for RaggedTensors and 'associated_conditions_hobbies')\n",
    "    tensor_user_inputs = {key: tf.convert_to_tensor(np.array([user_input[key] for user_input in user_inputs_list])) for key in user_inputs_list[0] if key not in ['current_stims']}\n",
    "    tensor_stim_inputs = {key: tf.convert_to_tensor(np.array([stim_input[key] for stim_input in stim_inputs_list])) for key in stim_inputs_list[0] if key != 'associated_conditions_hobbies'}\n",
    "\n",
    "    # Create a list of lists for 'current_stims'\n",
    "    #max_current_stims_length = max([len(user_input['current_stims']) if user_input['current_stims'] is not None else 0 for user_input in user_inputs_list])\n",
    "    max_current_stims_length = 3\n",
    "    current_stims_list = []\n",
    "    for user_input in user_inputs_list:\n",
    "        if user_input['current_stims'] is not None:\n",
    "            current_stims_list.append(user_input['current_stims'].numpy().tolist())\n",
    "        else:\n",
    "            current_stims_list.append([])\n",
    "    tensor_user_inputs['current_stims'] = tf.ragged.constant(current_stims_list, dtype=tf.float32).to_tensor(default_value=0.0)\n",
    "\n",
    "    # Handle 'associated_conditions_hobbies' separately\n",
    "    tensor_stim_inputs['associated_conditions_hobbies'] = tf.stack([tf.convert_to_tensor(pad_or_truncate(stim_input['associated_conditions_hobbies'], (2, 512)), dtype=tf.float32) for stim_input in stim_inputs_list], axis=0)\n",
    "\n",
    "    tensor_scores = tf.convert_to_tensor(np.array(scores_list), dtype=tf.float32)\n",
    "\n",
    "    return (tensor_user_inputs, tensor_stim_inputs, tensor_scores)\n",
    "\n",
    "(tensor_user_inputs_train, tensor_stim_inputs_train, tensor_scores_train) = preprocess_data(train_interactions_df, users_df, stims_df, score_calculator)\n",
    "(tensor_user_inputs_test, tensor_stim_inputs_test, tensor_scores_test) = preprocess_data(test_interactions_df, users_df, stims_df, score_calculator)\n",
    "\n",
    "# Get a sample batch of data\n",
    "sample_user_inputs = {key: tensor[:1] for key, tensor in tensor_user_inputs_train.items()}\n",
    "sample_stim_inputs = {key: tensor[:1] for key, tensor in tensor_stim_inputs_train.items()}\n",
    "\n",
    "# Add the missing 'current_stims' input\n",
    "sample_user_inputs['current_stims'] = tensor_user_inputs_train['current_stims'][:1]\n",
    "\n",
    "# Call the model with the sample batch to build the graph\n",
    "_ = model({'user_inputs' : sample_user_inputs, 'stim_inputs': sample_stim_inputs, 'labels': 0})\n",
    "\n",
    "\n",
    "# Train the model\n",
    "epochs = 25\n",
    "model.fit({ 'user_inputs' : tensor_user_inputs_train, 'stim_inputs': tensor_stim_inputs_train, 'labels': tensor_scores_train}, epochs=epochs,steps_per_epoch=331, callbacks=[tensorboard_callback])"
   ]
  },
  {
   "cell_type": "code",
   "execution_count": null,
   "metadata": {
    "colab": {
     "base_uri": "https://localhost:8080/"
    },
    "id": "GYCGLT7XTaTB",
    "outputId": "045f2dbc-bd56-448a-f34b-c7ffa523484e"
   },
   "outputs": [],
   "source": [
    "model.summary()"
   ]
  },
  {
   "cell_type": "code",
   "execution_count": 39,
   "metadata": {
    "scrolled": true
   },
   "outputs": [
    {
     "name": "stdout",
     "output_type": "stream",
     "text": [
      "5/5 [==============================] - 2s 219ms/step - root_mean_squared_error: 6.1068 - loss: 36.8775 - regularization_loss: 361.0368 - total_loss: 397.9143\n"
     ]
    },
    {
     "data": {
      "text/plain": [
       "[6.106773853302002, 35.941497802734375, 361.03680419921875, 396.9783020019531]"
      ]
     },
     "execution_count": 39,
     "metadata": {},
     "output_type": "execute_result"
    }
   ],
   "source": [
    "# Evaluate the model on the test set\n",
    "model.task.metrics.append(tf.keras.metrics.MeanAbsoluteError())\n",
    "model.evaluate({'user_inputs' : tensor_user_inputs_test, 'stim_inputs': tensor_stim_inputs_test, 'labels': tensor_scores_test})"
   ]
  },
  {
   "cell_type": "code",
   "execution_count": 40,
   "metadata": {
    "colab": {
     "base_uri": "https://localhost:8080/"
    },
    "id": "UhgFE6N-_8yJ",
    "outputId": "53ca53f1-1372-40f8-b36f-be4cc35f128d"
   },
   "outputs": [
    {
     "name": "stdout",
     "output_type": "stream",
     "text": [
      "tf.Tensor([[25.322544]], shape=(1, 1), dtype=float32)\n"
     ]
    }
   ],
   "source": [
    "# Load the Universal Sentence Encoder\n",
    "embed = hub.load(\"https://tfhub.dev/google/universal-sentence-encoder/4\")\n",
    "\n",
    "def text_embedder(text):\n",
    "    return embed(text)\n",
    "\n",
    "def create_prediction_input(user_data, stim_data):\n",
    "    user_inputs = {\n",
    "        \"age\": tf.constant([user_data[\"age\"]], dtype=tf.int32),\n",
    "        \"gender\": tf.constant([user_data[\"gender\"]], dtype=tf.string),\n",
    "        \"sexuality\": tf.constant([user_data[\"sexuality\"]], dtype=tf.string),\n",
    "        \"nd_conditions_embedding\": tf.expand_dims(tf.expand_dims(text_embedder([\" and \".join(user_data[\"neurodivergent_conditions\"])])[0], axis=0), axis=1),\n",
    "        \"hobbies_embedding\": tf.expand_dims(tf.expand_dims(text_embedder([user_data[\"hobbies\"]])[0], axis=0), axis=1),\n",
    "        \"stimming_essentiality_score\": tf.constant([user_data[\"stimming_essentiality_score\"]], dtype=tf.int32),\n",
    "        \"current_stims\": tf.expand_dims(tf.expand_dims(text_embedder([user_data[\"current_stims\"]])[0], axis=0), axis=1),\n",
    "    }\n",
    "\n",
    "    stim_inputs = {\n",
    "        \"name_embedding\": tf.expand_dims(tf.expand_dims(text_embedder([stim_data[\"name\"]])[0], axis=0), axis=1),\n",
    "        \"description_embedding\": tf.expand_dims(tf.expand_dims(text_embedder([stim_data[\"description\"]])[0], axis=0), axis=1),\n",
    "        \"harmfulness_score\": tf.constant([stim_data[\"harmfulness_score\"]], dtype=tf.int32),\n",
    "        \"associated_conditions_hobbies\": tf.expand_dims(pad_or_truncate(text_embedder(stim_data[\"associated_conditions_hobbies\"]), (2, 512)), axis=0),\n",
    "    }\n",
    "\n",
    "\n",
    "    return user_inputs, stim_inputs\n",
    "\n",
    "user_data = {\n",
    "    \"age\": 20,\n",
    "    \"gender\": \"Female\",\n",
    "    \"sexuality\": \"Bisexual\",\n",
    "    \"neurodivergent_conditions\": ['Social Anxiety Disorder', 'Depression','Epilepsy'],\n",
    "    \"hobbies\": \"Drawing, Music\",\n",
    "    \"stimming_essentiality_score\": 5,\n",
    "    \"current_stims\": \"Tapping Feet\",\n",
    "}\n",
    "\n",
    "stim_data = {\n",
    "    \"name\": \"Fidgeting hands\",\n",
    "    \"description\": \"I start tearing random bits of paper whenever I'm mindless\",\n",
    "    \"harmfulness_score\": 1,\n",
    "    \"associated_conditions_hobbies\": [\"Dyslexia\", \"Masturbation\"],\n",
    "}\n",
    "\n",
    "\n",
    "user_inputs, stim_inputs = create_prediction_input(user_data, stim_data)\n",
    "\n",
    "# Make a prediction\n",
    "prediction = model({ 'user_inputs' : user_inputs, 'stim_inputs': stim_inputs, 'labels': 10})\n",
    "print(prediction)"
   ]
  },
  {
   "cell_type": "code",
   "execution_count": null,
   "metadata": {},
   "outputs": [],
   "source": [
    "%load_ext tensorboard\n",
    "log_folder = 'logs'\n",
    "%reload_ext tensorboard"
   ]
  },
  {
   "cell_type": "code",
   "execution_count": null,
   "metadata": {},
   "outputs": [],
   "source": [
    "tensorboard --logdir logs"
   ]
  },
  {
   "cell_type": "code",
   "execution_count": 23,
   "metadata": {
    "id": "NiY3nAIM_eEC"
   },
   "outputs": [],
   "source": [
    "# Save the prediction model\n",
    "checkpoint = tf.train.Checkpoint(model=model)\n",
    "checkpoint.save(\"stimming_recommender\")\n",
    "# Save the model's weights\n",
    "model.save_weights(\"stimming_recommender_weights/weights.ckpt\")\n",
    "user_model.save_weights(\"user_model_weights/weights.ckpt\")\n",
    "stim_model.save_weights(\"stim_model_weights/weights.ckpt\")"
   ]
  },
  {
   "cell_type": "code",
   "execution_count": null,
   "metadata": {
    "colab": {
     "base_uri": "https://localhost:8080/"
    },
    "id": "4ByWjM2hDTKb",
    "outputId": "c449e089-13a0-49f0-e1fb-40f1f43fe908",
    "scrolled": true
   },
   "outputs": [],
   "source": []
  },
  {
   "cell_type": "code",
   "execution_count": null,
   "metadata": {},
   "outputs": [],
   "source": []
  },
  {
   "cell_type": "code",
   "execution_count": 42,
   "metadata": {
    "colab": {
     "base_uri": "https://localhost:8080/"
    },
    "id": "SG4qOVHE7UgD",
    "outputId": "143dcbce-a3e4-41e3-b780-5589c5b50f3a"
   },
   "outputs": [
    {
     "data": {
      "text/plain": [
       "<tensorflow.python.checkpoint.checkpoint.CheckpointLoadStatus at 0x1e581e99580>"
      ]
     },
     "execution_count": 42,
     "metadata": {},
     "output_type": "execute_result"
    }
   ],
   "source": [
    "#Restore to use model\n",
    "def create_recommender_model(user_input_layers, stim_input_layers):\n",
    "    user_model = create_user_model(user_input_layers)\n",
    "    stim_model = create_stim_model(stim_input_layers)\n",
    "    recommender_model = RankingModel()\n",
    "    recommender_model.compile(optimizer=tf.keras.optimizers.Adam(learning_rate=3e-4))\n",
    "    return recommender_model\n",
    "user_input_layers = create_user_input_layers()\n",
    "stim_input_layers = create_stim_input_layers()\n",
    "\n",
    "# Create the model architecture\n",
    "loaded_model = create_recommender_model(user_input_layers, stim_input_layers)\n",
    "\n",
    "# Load the saved weights\n",
    "checkpoint = tf.train.Checkpoint(model=loaded_model)\n",
    "checkpoint.restore(\"stimming_recommender/weights.ckpt-1\").expect_partial()\n"
   ]
  },
  {
   "cell_type": "code",
   "execution_count": 44,
   "metadata": {
    "colab": {
     "base_uri": "https://localhost:8080/"
    },
    "id": "vguJB8h1f2E9",
    "outputId": "3225be31-d3b4-45e7-f495-b23977454c31"
   },
   "outputs": [
    {
     "name": "stdout",
     "output_type": "stream",
     "text": [
      "tf.Tensor([[25.322544]], shape=(1, 1), dtype=float32)\n"
     ]
    }
   ],
   "source": [
    "# Load the Universal Sentence Encoder\n",
    "embed = hub.load(\"https://tfhub.dev/google/universal-sentence-encoder/4\")\n",
    "\n",
    "def text_embedder(text):\n",
    "    return embed(text)\n",
    "\n",
    "def create_prediction_input(user_data, stim_data):\n",
    "    user_inputs = {\n",
    "        \"age\": tf.constant([user_data[\"age\"]], dtype=tf.int32),\n",
    "        \"gender\": tf.constant([user_data[\"gender\"]], dtype=tf.string),\n",
    "        \"sexuality\": tf.constant([user_data[\"sexuality\"]], dtype=tf.string),\n",
    "        \"nd_conditions_embedding\": tf.expand_dims(tf.expand_dims(text_embedder([\" and \".join(user_data[\"neurodivergent_conditions\"])])[0], axis=0), axis=1),\n",
    "        \"hobbies_embedding\": tf.expand_dims(tf.expand_dims(text_embedder([user_data[\"hobbies\"]])[0], axis=0), axis=1),\n",
    "        \"stimming_essentiality_score\": tf.constant([user_data[\"stimming_essentiality_score\"]], dtype=tf.int32),\n",
    "        \"current_stims\": tf.expand_dims(tf.expand_dims(text_embedder([user_data[\"current_stims\"]])[0], axis=0), axis=1),\n",
    "    }\n",
    "\n",
    "    stim_inputs = {\n",
    "        \"name_embedding\": tf.expand_dims(tf.expand_dims(text_embedder([stim_data[\"name\"]])[0], axis=0), axis=1),\n",
    "        \"description_embedding\": tf.expand_dims(tf.expand_dims(text_embedder([stim_data[\"description\"]])[0], axis=0), axis=1),\n",
    "        \"harmfulness_score\": tf.constant([stim_data[\"harmfulness_score\"]], dtype=tf.int32),\n",
    "        \"associated_conditions_hobbies\": tf.expand_dims(pad_or_truncate(text_embedder(stim_data[\"associated_conditions_hobbies\"]), (2, 512)), axis=0),\n",
    "    }\n",
    "\n",
    "\n",
    "    return user_inputs, stim_inputs\n",
    "\n",
    "user_data = {\n",
    "    \"age\": 20,\n",
    "    \"gender\": \"Female\",\n",
    "    \"sexuality\": \"Bisexual\",\n",
    "    \"neurodivergent_conditions\": ['Social Anxiety Disorder', 'Depression','Epilepsy'],\n",
    "    \"hobbies\": \"Drawing, Music\",\n",
    "    \"stimming_essentiality_score\": 5,\n",
    "    \"current_stims\": \"Tapping Feet\",\n",
    "}\n",
    "\n",
    "stim_data = {\n",
    "    \"name\": \"Fidgeting hands\",\n",
    "    \"description\": \"I start tearing random bits of paper whenever I'm mindless\",\n",
    "    \"harmfulness_score\": 1,\n",
    "    \"associated_conditions_hobbies\": [\"Dyslexia\", \"Masturbation\"],\n",
    "}\n",
    "\n",
    "\n",
    "user_inputs, stim_inputs = create_prediction_input(user_data, stim_data)\n",
    "\n",
    "# Make a prediction\n",
    "prediction = loaded_model({ 'user_inputs' : user_inputs, 'stim_inputs': stim_inputs, 'labels': 10})\n",
    "print(prediction)"
   ]
  },
  {
   "cell_type": "code",
   "execution_count": null,
   "metadata": {
    "colab": {
     "base_uri": "https://localhost:8080/"
    },
    "id": "GYCGLT7XTaTB",
    "outputId": "045f2dbc-bd56-448a-f34b-c7ffa523484e"
   },
   "outputs": [],
   "source": []
  }
 ],
 "metadata": {
  "colab": {
   "provenance": []
  },
  "kernelspec": {
   "display_name": "Python 3 (ipykernel)",
   "language": "python",
   "name": "python3"
  },
  "language_info": {
   "codemirror_mode": {
    "name": "ipython",
    "version": 3
   },
   "file_extension": ".py",
   "mimetype": "text/x-python",
   "name": "python",
   "nbconvert_exporter": "python",
   "pygments_lexer": "ipython3",
   "version": "3.9.12"
  }
 },
 "nbformat": 4,
 "nbformat_minor": 1
}
